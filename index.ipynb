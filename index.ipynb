{
 "cells": [
  {
   "cell_type": "code",
   "execution_count": 1,
   "metadata": {},
   "outputs": [],
   "source": [
    "import numpy as np"
   ]
  },
  {
   "cell_type": "code",
   "execution_count": 46,
   "metadata": {},
   "outputs": [
    {
     "data": {
      "text/plain": [
       "({'h': 0, 'o': 1, 'e': 2, 'l': 3}, {0: 'h', 1: 'o', 2: 'e', 3: 'l'})"
      ]
     },
     "execution_count": 46,
     "metadata": {},
     "output_type": "execute_result"
    }
   ],
   "source": [
    "data = \"hello\"\n",
    "chars = list(set(data))\n",
    "vocab_size = len(chars)\n",
    "\n",
    "chars_to_indices = {char: i for i, char in enumerate(chars)}\n",
    "indices_to_chars = {i: char for i, char in enumerate(chars)}\n",
    "\n",
    "chars_to_indices, indices_to_chars"
   ]
  },
  {
   "cell_type": "code",
   "execution_count": 67,
   "metadata": {},
   "outputs": [],
   "source": [
    "# RNN configs\n",
    "embedding_size = vocab_size\n",
    "hidden_size = 64\n",
    "output_size = vocab_size"
   ]
  },
  {
   "cell_type": "code",
   "execution_count": 68,
   "metadata": {},
   "outputs": [],
   "source": [
    "# Matrices\n",
    "Wxh = np.random.randn(embedding_size, hidden_size)\n",
    "Whh = np.random.randn(hidden_size, hidden_size)\n",
    "bh = np.random.randn(1, hidden_size)\n",
    "\n",
    "Why = np.random.randn(hidden_size, output_size)\n",
    "by = np.random.randn(1, output_size)"
   ]
  },
  {
   "cell_type": "code",
   "execution_count": 99,
   "metadata": {},
   "outputs": [],
   "source": [
    "def softmax(z):\n",
    "    e_z = np.exp(z)\n",
    "    return e_z / e_z.sum(axis=1)\n",
    "\n",
    "def rnn(x_t, h_prev):\n",
    "    assert x_t.shape == (1, embedding_size)\n",
    "    assert h_prev.shape == (1, hidden_size)\n",
    "\n",
    "    h_next = np.tanh(x_t @ Wxh + h_prev @ Whh + bh)\n",
    "    probs = softmax(h_next @ Why + by)\n",
    "    \n",
    "    return probs, h_next\n",
    "\n",
    "def sample(char, n):\n",
    "    # sample rnn n times starting with the first char\n",
    "    x = np.zeros((1, vocab_size))\n",
    "    idx = chars_to_indices[char]\n",
    "    x[:, idx] = 1 # one hot encoding\n",
    "    h =  np.zeros((1, hidden_size)) # hidden state\n",
    "    idxes = []\n",
    "    \n",
    "    for i in range(n):\n",
    "        probs, h = rnn(x, h) # xt, hprev -> rnn -> probs, hnext\n",
    "        idx = np.random.choice(vocab_size, p=probs.ravel()) # .ravel returns a 1d array\n",
    "        \n",
    "        x = np.zeros((1, vocab_size))\n",
    "        x[:, idx] = 1\n",
    "        idxes.append(idx)\n",
    "\n",
    "    chars = \"\".join([indices_to_chars[i] for i in idxes])\n",
    "    return chars"
   ]
  },
  {
   "cell_type": "code",
   "execution_count": 100,
   "metadata": {},
   "outputs": [
    {
     "data": {
      "text/plain": [
       "((1, 4), (1, 64))"
      ]
     },
     "execution_count": 100,
     "metadata": {},
     "output_type": "execute_result"
    }
   ],
   "source": [
    "x_t = np.random.randn(1, embedding_size)\n",
    "h_prev = np.random.randn(1, hidden_size)\n",
    "\n",
    "probs, h_next = rnn(x_t, h_prev)\n",
    "probs.shape, h_next.shape"
   ]
  },
  {
   "cell_type": "code",
   "execution_count": 101,
   "metadata": {},
   "outputs": [
    {
     "data": {
      "text/plain": [
       "([0, 2, 3, 3], [2, 3, 3, 1])"
      ]
     },
     "execution_count": 101,
     "metadata": {},
     "output_type": "execute_result"
    }
   ],
   "source": [
    "inp = [chars_to_indices[c] for c in data[:-1]]\n",
    "target = [chars_to_indices[c] for c in data[1:]]\n",
    "\n",
    "inp, target"
   ]
  },
  {
   "cell_type": "code",
   "execution_count": 102,
   "metadata": {},
   "outputs": [
    {
     "data": {
      "text/plain": [
       "'lehe'"
      ]
     },
     "execution_count": 102,
     "metadata": {},
     "output_type": "execute_result"
    }
   ],
   "source": [
    "sample(\"h\", 4)"
   ]
  },
  {
   "cell_type": "code",
   "execution_count": 113,
   "metadata": {},
   "outputs": [
    {
     "name": "stdout",
     "output_type": "stream",
     "text": [
      "42.81752482486429\n"
     ]
    }
   ],
   "source": [
    "for e in range(1000):\n",
    "    # compute loss\n",
    "    loss = 0\n",
    "    h = np.zeros((1, hidden_size))\n",
    "    for i in range(len(inp)):\n",
    "        idx = inp[i]\n",
    "        x = np.zeros((1, vocab_size))\n",
    "        x[:, idx] = 1\n",
    "        probs, h = rnn(x, h)\n",
    "\n",
    "        # cross entropy\n",
    "        pred = probs[0, target[i]]\n",
    "        loss += -np.log(pred)\n",
    "\n",
    "    print(loss)\n",
    "\n",
    "    # backprop\n",
    "    break"
   ]
  },
  {
   "cell_type": "code",
   "execution_count": null,
   "metadata": {},
   "outputs": [],
   "source": []
  },
  {
   "cell_type": "code",
   "execution_count": null,
   "metadata": {},
   "outputs": [],
   "source": []
  }
 ],
 "metadata": {
  "kernelspec": {
   "display_name": "core-JXcGQI7U-py3.10",
   "language": "python",
   "name": "python3"
  },
  "language_info": {
   "codemirror_mode": {
    "name": "ipython",
    "version": 3
   },
   "file_extension": ".py",
   "mimetype": "text/x-python",
   "name": "python",
   "nbconvert_exporter": "python",
   "pygments_lexer": "ipython3",
   "version": "3.10.13"
  }
 },
 "nbformat": 4,
 "nbformat_minor": 2
}
