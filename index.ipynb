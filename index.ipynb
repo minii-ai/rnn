{
 "cells": [
  {
   "cell_type": "code",
   "execution_count": 1,
   "metadata": {},
   "outputs": [],
   "source": [
    "import numpy as np"
   ]
  },
  {
   "cell_type": "code",
   "execution_count": 2,
   "metadata": {},
   "outputs": [],
   "source": [
    "np.random.seed(0)"
   ]
  },
  {
   "cell_type": "code",
   "execution_count": 3,
   "metadata": {},
   "outputs": [
    {
     "data": {
      "text/plain": [
       "({'r': 0, 'd': 1, 'o': 2, 'e': 3, 'h': 4, 'l': 5, ' ': 6, 'w': 7},\n",
       " {0: 'r', 1: 'd', 2: 'o', 3: 'e', 4: 'h', 5: 'l', 6: ' ', 7: 'w'})"
      ]
     },
     "execution_count": 3,
     "metadata": {},
     "output_type": "execute_result"
    }
   ],
   "source": [
    "data = \"hello world\"\n",
    "chars = list(set(data))\n",
    "vocab_size = len(chars)\n",
    "\n",
    "chars_to_indices = {char: i for i, char in enumerate(chars)}\n",
    "indices_to_chars = {i: char for i, char in enumerate(chars)}\n",
    "\n",
    "chars_to_indices, indices_to_chars"
   ]
  },
  {
   "cell_type": "code",
   "execution_count": 4,
   "metadata": {},
   "outputs": [],
   "source": [
    "# RNN configs\n",
    "embedding_size = vocab_size\n",
    "hidden_size = 64\n",
    "output_size = vocab_size"
   ]
  },
  {
   "cell_type": "code",
   "execution_count": 5,
   "metadata": {},
   "outputs": [],
   "source": [
    "# Matrices\n",
    "Wxh = np.random.randn(embedding_size, hidden_size)\n",
    "Whh = np.random.randn(hidden_size, hidden_size)\n",
    "bh = np.random.randn(1, hidden_size)\n",
    "\n",
    "Why = np.random.randn(hidden_size, output_size)\n",
    "by = np.random.randn(1, output_size)"
   ]
  },
  {
   "cell_type": "code",
   "execution_count": 6,
   "metadata": {},
   "outputs": [],
   "source": [
    "def softmax(z):\n",
    "    e_z = np.exp(z)\n",
    "    return e_z / e_z.sum(axis=1)\n",
    "\n",
    "def rnn(x_t, h_prev):\n",
    "    assert x_t.shape == (1, embedding_size)\n",
    "    assert h_prev.shape == (1, hidden_size)\n",
    "\n",
    "    h_next = np.tanh(x_t @ Wxh + h_prev @ Whh + bh)\n",
    "    probs = softmax(h_next @ Why + by)\n",
    "    \n",
    "    return probs, h_next\n",
    "\n",
    "def sample(char, n):\n",
    "    # sample rnn n times starting with the first char\n",
    "    x = np.zeros((1, vocab_size))\n",
    "    idx = chars_to_indices[char]\n",
    "    x[:, idx] = 1 # one hot encoding\n",
    "    h =  np.zeros((1, hidden_size)) # hidden state\n",
    "    idxes = []\n",
    "    \n",
    "    for i in range(n):\n",
    "        probs, h = rnn(x, h) # xt, hprev -> rnn -> probs, hnext\n",
    "        idx = np.random.choice(vocab_size, p=probs.ravel()) # .ravel returns a 1d array\n",
    "        \n",
    "        x = np.zeros((1, vocab_size))\n",
    "        x[:, idx] = 1\n",
    "        idxes.append(idx)\n",
    "\n",
    "    chars = \"\".join([indices_to_chars[i] for i in idxes])\n",
    "    return chars"
   ]
  },
  {
   "cell_type": "code",
   "execution_count": 7,
   "metadata": {},
   "outputs": [
    {
     "data": {
      "text/plain": [
       "((1, 8), (1, 64))"
      ]
     },
     "execution_count": 7,
     "metadata": {},
     "output_type": "execute_result"
    }
   ],
   "source": [
    "x_t = np.random.randn(1, embedding_size)\n",
    "h_prev = np.random.randn(1, hidden_size)\n",
    "\n",
    "probs, h_next = rnn(x_t, h_prev)\n",
    "probs.shape, h_next.shape"
   ]
  },
  {
   "cell_type": "code",
   "execution_count": 8,
   "metadata": {},
   "outputs": [
    {
     "data": {
      "text/plain": [
       "([4, 3, 5, 5, 2, 6, 7, 2, 0, 5], [3, 5, 5, 2, 6, 7, 2, 0, 5, 1])"
      ]
     },
     "execution_count": 8,
     "metadata": {},
     "output_type": "execute_result"
    }
   ],
   "source": [
    "inp = [chars_to_indices[c] for c in data[:-1]]\n",
    "target = [chars_to_indices[c] for c in data[1:]]\n",
    "\n",
    "inp, target"
   ]
  },
  {
   "cell_type": "code",
   "execution_count": 9,
   "metadata": {},
   "outputs": [
    {
     "data": {
      "text/plain": [
       "'edd '"
      ]
     },
     "execution_count": 9,
     "metadata": {},
     "output_type": "execute_result"
    }
   ],
   "source": [
    "sample(\"h\", 4)"
   ]
  },
  {
   "cell_type": "code",
   "execution_count": 14,
   "metadata": {},
   "outputs": [
    {
     "name": "stdout",
     "output_type": "stream",
     "text": [
      "[Loss]: 0.020765789079127087\n",
      "[Loss]: 0.020633137402769716\n",
      "[Loss]: 0.020500878317168434\n",
      "[Loss]: 0.02036723471958046\n",
      "[Loss]: 0.020232051732413662\n",
      "[Loss]: 0.02009778443933907\n",
      "[Loss]: 0.01996898806849871\n",
      "[Loss]: 0.019850844867482648\n",
      "[Loss]: 0.0197486222151627\n",
      "[Loss]: 0.01966910852283978\n",
      "[Loss]: 0.019624543393132556\n",
      "[Loss]: 0.019642560847256282\n",
      "[Loss]: 0.019800126334480004\n",
      "[Loss]: 0.02039600607446793\n",
      "[Loss]: 0.02357711900876883\n",
      "[Loss]: 0.036444903634356304\n",
      "[Loss]: 0.465839406252212\n",
      "[Loss]: 1.8801207803575928\n",
      "[Loss]: 0.1057172080488387\n",
      "[Loss]: 0.06114307402197965\n",
      "[Loss]: 0.2663070048964097\n",
      "[Loss]: 0.6478268728512007\n",
      "[Loss]: 0.38411541602641647\n",
      "[Loss]: 0.08797001303292297\n",
      "[Loss]: 0.11876099617945426\n",
      "[Loss]: 0.09592841563444966\n",
      "[Loss]: 0.06305123224259446\n",
      "[Loss]: 0.06053883861258935\n",
      "[Loss]: 0.05890166015433987\n",
      "[Loss]: 0.058856103924463735\n",
      "[Loss]: 0.05988279824732445\n",
      "[Loss]: 0.06518095580807341\n",
      "[Loss]: 0.0957360772238684\n",
      "[Loss]: 0.21725592329187926\n",
      "[Loss]: 1.0893957217008068\n",
      "[Loss]: 0.017773844194564074\n",
      "[Loss]: 0.01743870565997136\n",
      "[Loss]: 0.017153316221313372\n",
      "[Loss]: 0.016903246265249226\n",
      "[Loss]: 0.01667926983729919\n",
      "[Loss]: 0.016475260514826798\n",
      "[Loss]: 0.016287007342114905\n",
      "[Loss]: 0.016111524826104024\n",
      "[Loss]: 0.015946636832789924\n",
      "[Loss]: 0.015790717365464408\n",
      "[Loss]: 0.015642524151778223\n",
      "[Loss]: 0.015501088852099986\n",
      "[Loss]: 0.015365642815958088\n",
      "[Loss]: 0.015235565751762329\n",
      "[Loss]: 0.015110349525000014\n",
      "[Loss]: 0.014989572165445646\n",
      "[Loss]: 0.014872878900782942\n",
      "[Loss]: 0.014759968112412099\n",
      "[Loss]: 0.014650580793737211\n",
      "[Loss]: 0.014544492535148187\n",
      "[Loss]: 0.014441507353677338\n",
      "[Loss]: 0.014341452883801672\n",
      "[Loss]: 0.014244176582583064\n",
      "[Loss]: 0.014149542698385338\n",
      "[Loss]: 0.014057429820952198\n",
      "[Loss]: 0.013967728880133095\n",
      "[Loss]: 0.013880341496548728\n",
      "[Loss]: 0.013795178613609729\n",
      "[Loss]: 0.013712159359132673\n",
      "[Loss]: 0.013631210098230548\n",
      "[Loss]: 0.01355226364853559\n",
      "[Loss]: 0.013475258635291315\n",
      "[Loss]: 0.01340013896833249\n",
      "[Loss]: 0.013326853425952443\n",
      "[Loss]: 0.013255355332805075\n",
      "[Loss]: 0.01318560232052486\n",
      "[Loss]: 0.013117556160904844\n",
      "[Loss]: 0.01305118266243262\n",
      "[Loss]: 0.012986451621801356\n",
      "[Loss]: 0.012923336822750459\n",
      "[Loss]: 0.012861816075244049\n",
      "[Loss]: 0.012801871288654277\n",
      "[Loss]: 0.0127434885732305\n",
      "[Loss]: 0.012686658364773127\n",
      "[Loss]: 0.012631375568055329\n",
      "[Loss]: 0.012577639715197528\n",
      "[Loss]: 0.01252545513585855\n",
      "[Loss]: 0.012474831136730088\n",
      "[Loss]: 0.012425782188407201\n",
      "[Loss]: 0.012378328118159766\n",
      "[Loss]: 0.01233249430742459\n",
      "[Loss]: 0.012288311892853666\n",
      "[Loss]: 0.012245817969451222\n",
      "[Loss]: 0.012205055793626563\n",
      "[Loss]: 0.012166074982717968\n",
      "[Loss]: 0.012128931705710872\n",
      "[Loss]: 0.012093688857264888\n",
      "[Loss]: 0.01206041620367065\n",
      "[Loss]: 0.012029190484723598\n",
      "[Loss]: 0.012000095449513547\n",
      "[Loss]: 0.011973221796338394\n",
      "[Loss]: 0.011948666976885562\n",
      "[Loss]: 0.011926534811968696\n",
      "[Loss]: 0.011906934849696602\n",
      "[Loss]: 0.011889981376378773\n"
     ]
    }
   ],
   "source": [
    "lr = 1e-2\n",
    "for e in range(100):\n",
    "    # compute loss\n",
    "    loss = 0\n",
    "    xs, ps, hs = {}, {}, {}\n",
    "    h = np.zeros((1, hidden_size))\n",
    "    hs[-1] = h\n",
    "    for t in range(len(inp)):\n",
    "        idx = inp[t]\n",
    "        x = np.zeros((1, vocab_size))\n",
    "        x[:, idx] = 1\n",
    "        probs, h = rnn(x, h)\n",
    "        xs[t] = x\n",
    "        ps[t] = probs # save probs (we'll use this in backprop)\n",
    "        hs[t] = h\n",
    "\n",
    "        # cross entropy\n",
    "        pred = probs[0, target[t]]\n",
    "        loss += -np.log(pred)\n",
    "\n",
    "    # backprop, calculate gradients\n",
    "    dL_dWxh = np.zeros_like(Wxh)\n",
    "    dL_dWhh = np.zeros_like(Whh)\n",
    "    dL_dbh = np.zeros_like(bh)\n",
    "    dL_Why = np.zeros_like(Why)\n",
    "    dL_dby = np.zeros_like(by)\n",
    "    dF_dh = np.zeros((1, hidden_size))\n",
    "\n",
    "    for t in reversed(range(len(inp))):\n",
    "        dL_dz2 = np.copy(ps[t])\n",
    "        target_idx = target[t]\n",
    "        dL_dz2[:, target_idx] -= 1\n",
    "\n",
    "        # 2nd layer\n",
    "        dL_Why += dL_dz2 * hs[t].T\n",
    "        dL_dby += dL_dz2\n",
    "\n",
    "        # 1st layer\n",
    "        dh_dz1 = 1 - hs[t] ** 2\n",
    "        dL_dh = (dL_dz2 @ Why.T) + dF_dh \n",
    "\n",
    "        dL_dWxh += dL_dh * dh_dz1 * xs[t].T\n",
    "        dL_dWhh += dL_dh * dh_dz1 * hs[t - 1].T\n",
    "        dL_dbh += dL_dh * dh_dz1\n",
    "\n",
    "        dF_dh = dL_dh * (dh_dz1 @ Whh.T)\n",
    "\n",
    "    # clip gradients\n",
    "    for gradient in [dL_dWxh, dL_dWhh, dL_Why, dL_dbh, dL_dby]:\n",
    "        np.clip(gradient, -1, 1, out=gradient)\n",
    "\n",
    "    # gradient descent\n",
    "    for weights, gradient in zip([Wxh, Whh, Why, bh, by], [dL_dWxh, dL_dWhh, dL_Why, dL_dbh, dL_dby]):\n",
    "        weights -= lr * gradient\n",
    "\n",
    "    # break\n",
    "    \n",
    "    print(f\"[Loss]: {loss}\")"
   ]
  },
  {
   "cell_type": "code",
   "execution_count": 13,
   "metadata": {},
   "outputs": [
    {
     "data": {
      "text/plain": [
       "'ello world'"
      ]
     },
     "execution_count": 13,
     "metadata": {},
     "output_type": "execute_result"
    }
   ],
   "source": [
    "sample(\"h\", 10)"
   ]
  },
  {
   "cell_type": "code",
   "execution_count": null,
   "metadata": {},
   "outputs": [],
   "source": []
  }
 ],
 "metadata": {
  "kernelspec": {
   "display_name": "core-JXcGQI7U-py3.10",
   "language": "python",
   "name": "python3"
  },
  "language_info": {
   "codemirror_mode": {
    "name": "ipython",
    "version": 3
   },
   "file_extension": ".py",
   "mimetype": "text/x-python",
   "name": "python",
   "nbconvert_exporter": "python",
   "pygments_lexer": "ipython3",
   "version": "3.10.13"
  }
 },
 "nbformat": 4,
 "nbformat_minor": 2
}
