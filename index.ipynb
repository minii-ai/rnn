{
 "cells": [
  {
   "cell_type": "code",
   "execution_count": 1,
   "metadata": {},
   "outputs": [],
   "source": [
    "import numpy as np"
   ]
  },
  {
   "cell_type": "code",
   "execution_count": 2,
   "metadata": {},
   "outputs": [],
   "source": [
    "np.random.seed(0)"
   ]
  },
  {
   "cell_type": "code",
   "execution_count": 3,
   "metadata": {},
   "outputs": [
    {
     "data": {
      "text/plain": [
       "({'o': 0, 'l': 1, 'w': 2, 'd': 3, 'h': 4, ' ': 5, 'e': 6, 'r': 7},\n",
       " {0: 'o', 1: 'l', 2: 'w', 3: 'd', 4: 'h', 5: ' ', 6: 'e', 7: 'r'})"
      ]
     },
     "execution_count": 3,
     "metadata": {},
     "output_type": "execute_result"
    }
   ],
   "source": [
    "data = \"hello world\"\n",
    "chars = list(set(data))\n",
    "vocab_size = len(chars)\n",
    "\n",
    "chars_to_indices = {char: i for i, char in enumerate(chars)}\n",
    "indices_to_chars = {i: char for i, char in enumerate(chars)}\n",
    "\n",
    "chars_to_indices, indices_to_chars"
   ]
  },
  {
   "cell_type": "code",
   "execution_count": 4,
   "metadata": {},
   "outputs": [],
   "source": [
    "# RNN configs\n",
    "embedding_size = vocab_size\n",
    "hidden_size = 64\n",
    "output_size = vocab_size"
   ]
  },
  {
   "cell_type": "code",
   "execution_count": 5,
   "metadata": {},
   "outputs": [],
   "source": [
    "# Matrices\n",
    "Wxh = np.random.randn(embedding_size, hidden_size)\n",
    "Whh = np.random.randn(hidden_size, hidden_size)\n",
    "bh = np.random.randn(1, hidden_size)\n",
    "\n",
    "Why = np.random.randn(hidden_size, output_size)\n",
    "by = np.random.randn(1, output_size)"
   ]
  },
  {
   "cell_type": "code",
   "execution_count": 6,
   "metadata": {},
   "outputs": [],
   "source": [
    "def softmax(z):\n",
    "    e_z = np.exp(z)\n",
    "    return e_z / e_z.sum(axis=1)\n",
    "\n",
    "def rnn(x_t, h_prev):\n",
    "    assert x_t.shape == (1, embedding_size)\n",
    "    assert h_prev.shape == (1, hidden_size)\n",
    "\n",
    "    h_next = np.tanh(x_t @ Wxh + h_prev @ Whh + bh)\n",
    "    probs = softmax(h_next @ Why + by)\n",
    "    \n",
    "    return probs, h_next\n",
    "\n",
    "def sample(char, n):\n",
    "    # sample rnn n times starting with the first char\n",
    "    x = np.zeros((1, vocab_size))\n",
    "    idx = chars_to_indices[char]\n",
    "    x[:, idx] = 1 # one hot encoding\n",
    "    h =  np.zeros((1, hidden_size)) # hidden state\n",
    "    idxes = []\n",
    "    \n",
    "    for i in range(n):\n",
    "        probs, h = rnn(x, h) # xt, hprev -> rnn -> probs, hnext\n",
    "        idx = np.random.choice(vocab_size, p=probs.ravel()) # .ravel returns a 1d array\n",
    "        \n",
    "        x = np.zeros((1, vocab_size))\n",
    "        x[:, idx] = 1\n",
    "        idxes.append(idx)\n",
    "\n",
    "    chars = \"\".join([indices_to_chars[i] for i in idxes])\n",
    "    return chars"
   ]
  },
  {
   "cell_type": "code",
   "execution_count": 7,
   "metadata": {},
   "outputs": [
    {
     "data": {
      "text/plain": [
       "((1, 8), (1, 64))"
      ]
     },
     "execution_count": 7,
     "metadata": {},
     "output_type": "execute_result"
    }
   ],
   "source": [
    "x_t = np.random.randn(1, embedding_size)\n",
    "h_prev = np.random.randn(1, hidden_size)\n",
    "\n",
    "probs, h_next = rnn(x_t, h_prev)\n",
    "probs.shape, h_next.shape"
   ]
  },
  {
   "cell_type": "code",
   "execution_count": 8,
   "metadata": {},
   "outputs": [
    {
     "data": {
      "text/plain": [
       "([4, 6, 1, 1, 0, 5, 2, 0, 7, 1], [6, 1, 1, 0, 5, 2, 0, 7, 1, 3])"
      ]
     },
     "execution_count": 8,
     "metadata": {},
     "output_type": "execute_result"
    }
   ],
   "source": [
    "inp = [chars_to_indices[c] for c in data[:-1]]\n",
    "target = [chars_to_indices[c] for c in data[1:]]\n",
    "\n",
    "inp, target"
   ]
  },
  {
   "cell_type": "code",
   "execution_count": 9,
   "metadata": {},
   "outputs": [
    {
     "data": {
      "text/plain": [
       "'dlle'"
      ]
     },
     "execution_count": 9,
     "metadata": {},
     "output_type": "execute_result"
    }
   ],
   "source": [
    "sample(\"h\", 4)"
   ]
  },
  {
   "cell_type": "code",
   "execution_count": 15,
   "metadata": {},
   "outputs": [
    {
     "name": "stdout",
     "output_type": "stream",
     "text": [
      "[Loss]: 8.697269623130946\n",
      "[Loss]: 8.659623627242965\n",
      "[Loss]: 4.396628578245165\n",
      "[Loss]: 3.332594101688114\n",
      "[Loss]: 6.279528819870177\n",
      "[Loss]: 8.108745645767254\n",
      "[Loss]: 3.8869127432265125\n",
      "[Loss]: 9.153459124345744\n",
      "[Loss]: 10.00123781341093\n",
      "[Loss]: 4.608065546306275\n",
      "[Loss]: 2.637066750128036\n",
      "[Loss]: 4.236364009469662\n",
      "[Loss]: 10.59848304170207\n",
      "[Loss]: 8.447979742873839\n",
      "[Loss]: 3.464235576686472\n",
      "[Loss]: 5.4149597235891465\n",
      "[Loss]: 7.451926769267697\n",
      "[Loss]: 12.851299357839268\n",
      "[Loss]: 3.681721100962129\n",
      "[Loss]: 6.021301945482022\n",
      "[Loss]: 3.5084735200098365\n",
      "[Loss]: 7.485607584536385\n",
      "[Loss]: 5.343663294856562\n",
      "[Loss]: 2.3447480614950598\n",
      "[Loss]: 1.5885425983602253\n",
      "[Loss]: 2.5235092740111833\n",
      "[Loss]: 2.2157086550252654\n",
      "[Loss]: 8.84539867419696\n",
      "[Loss]: 3.662516673835035\n",
      "[Loss]: 11.918414188352912\n",
      "[Loss]: 3.3743649806053413\n",
      "[Loss]: 0.6746442993443703\n",
      "[Loss]: 0.6063288595528465\n",
      "[Loss]: 0.652839142851938\n",
      "[Loss]: 0.9428636001353383\n",
      "[Loss]: 1.3551515852625169\n",
      "[Loss]: 4.085518799292492\n",
      "[Loss]: 0.562455422690127\n",
      "[Loss]: 0.549109850301803\n",
      "[Loss]: 0.7805825367664996\n",
      "[Loss]: 2.2532370819870597\n",
      "[Loss]: 2.685775887554107\n",
      "[Loss]: 0.35148189643800026\n",
      "[Loss]: 0.5398006154443882\n",
      "[Loss]: 0.9714974713102266\n",
      "[Loss]: 0.830657448474474\n",
      "[Loss]: 10.47885096811191\n",
      "[Loss]: 21.694211878104706\n",
      "[Loss]: 17.684846728318345\n",
      "[Loss]: 10.33956353646239\n",
      "[Loss]: 10.670415342037492\n",
      "[Loss]: 9.608950121036905\n",
      "[Loss]: 7.894547186874693\n",
      "[Loss]: 7.21433865780899\n",
      "[Loss]: 0.34265958318219775\n",
      "[Loss]: 0.2801631115752717\n",
      "[Loss]: 0.24876993772730338\n",
      "[Loss]: 0.22920458539657396\n",
      "[Loss]: 0.21529632161806497\n",
      "[Loss]: 0.20459376714010466\n",
      "[Loss]: 0.19592839109483812\n",
      "[Loss]: 0.18869642840265624\n",
      "[Loss]: 0.18257361952817222\n",
      "[Loss]: 0.1773539189007551\n",
      "[Loss]: 0.1728721785270575\n",
      "[Loss]: 0.16900179149530623\n",
      "[Loss]: 0.16567199910026711\n",
      "[Loss]: 0.16287974853948262\n",
      "[Loss]: 0.16074105371038042\n",
      "[Loss]: 0.15972517748395343\n",
      "[Loss]: 0.16088633197619723\n",
      "[Loss]: 0.16399424532348272\n",
      "[Loss]: 0.16754189979946418\n",
      "[Loss]: 0.1684298614055115\n",
      "[Loss]: 0.167539197005643\n",
      "[Loss]: 0.16844237208305143\n",
      "[Loss]: 0.17197320821374695\n",
      "[Loss]: 0.17581273632604444\n",
      "[Loss]: 0.17902662479531814\n",
      "[Loss]: 0.1827919794994962\n",
      "[Loss]: 0.18797949406010547\n",
      "[Loss]: 0.19421905106381948\n",
      "[Loss]: 0.1996027087150536\n",
      "[Loss]: 0.20148153070195737\n",
      "[Loss]: 0.19859037082489972\n",
      "[Loss]: 0.19233951456716492\n",
      "[Loss]: 0.18536074002391473\n",
      "[Loss]: 0.17964274569868124\n",
      "[Loss]: 0.1764632016958525\n",
      "[Loss]: 0.17654086251159512\n",
      "[Loss]: 0.18022836629093247\n",
      "[Loss]: 0.18835955400323798\n",
      "[Loss]: 0.206209031951942\n",
      "[Loss]: 0.3188808021942869\n",
      "[Loss]: 1.910160337077238\n",
      "[Loss]: 1.07010629595727\n",
      "[Loss]: 0.8059086177695037\n",
      "[Loss]: 0.5172372731103004\n",
      "[Loss]: 0.4708571683283539\n",
      "[Loss]: 0.4815909783035803\n"
     ]
    }
   ],
   "source": [
    "lr = 1e-2\n",
    "for e in range(100):\n",
    "    # compute loss\n",
    "    loss = 0\n",
    "    xs, ps, hs = {}, {}, {}\n",
    "    h = np.zeros((1, hidden_size))\n",
    "    for t in range(len(inp)):\n",
    "        idx = inp[t]\n",
    "        x = np.zeros((1, vocab_size))\n",
    "        x[:, idx] = 1\n",
    "        probs, h = rnn(x, h)\n",
    "        xs[t] = x\n",
    "        ps[t] = probs # save probs (we'll use this in backprop)\n",
    "        hs[t] = h\n",
    "\n",
    "        # cross entropy\n",
    "        pred = probs[0, target[t]]\n",
    "        loss += -np.log(pred)\n",
    "\n",
    "    # backprop, calculate gradients\n",
    "    dL_dWxh = np.zeros_like(Wxh)\n",
    "    dL_dWhh = np.zeros_like(Whh)\n",
    "    dL_dbh = np.zeros_like(bh)\n",
    "    dL_Why = np.zeros_like(Why)\n",
    "    dL_dby = np.zeros_like(by)\n",
    "    dF_dh = np.zeros((1, hidden_size))\n",
    "\n",
    "    for t in reversed(range(len(inp))):\n",
    "        dL_dz2 = np.copy(ps[t])\n",
    "        target_idx = target[t]\n",
    "        dL_dz2[:, target_idx] -= 1\n",
    "\n",
    "        # 2nd layer\n",
    "        dL_Why += dL_dz2 * hs[t].T\n",
    "        dL_dby += dL_dz2\n",
    "\n",
    "        # 1st layer\n",
    "        dh_dz1 = 1 - hs[t] ** 2\n",
    "        dL_dh = (dL_dz2 @ Why.T) + dF_dh \n",
    "\n",
    "        dL_dWxh += dL_dh * dh_dz1 * xs[t].T\n",
    "        dL_dWhh += dL_dh * dh_dz1 * hs[t].T\n",
    "        dL_dbh += dL_dh * dh_dz1\n",
    "\n",
    "        dF_dh = dL_dh * (dh_dz1 @ Whh.T)\n",
    "\n",
    "    # clip gradients\n",
    "    for gradient in [dL_dWxh, dL_dWhh, dL_Why, dL_dbh, dL_dby]:\n",
    "        np.clip(gradient, -5, 5, out=gradient)\n",
    "\n",
    "    # gradient descent\n",
    "    for weights, gradient in zip([Wxh, Whh, Why, bh, by], [dL_dWxh, dL_dWhh, dL_Why, dL_dbh, dL_dby]):\n",
    "        weights -= lr * gradient\n",
    "\n",
    "    # break\n",
    "    \n",
    "    print(f\"[Loss]: {loss}\")"
   ]
  },
  {
   "cell_type": "code",
   "execution_count": 16,
   "metadata": {},
   "outputs": [
    {
     "data": {
      "text/plain": [
       "'ello world'"
      ]
     },
     "execution_count": 16,
     "metadata": {},
     "output_type": "execute_result"
    }
   ],
   "source": [
    "sample(\"h\", 10)"
   ]
  },
  {
   "cell_type": "code",
   "execution_count": null,
   "metadata": {},
   "outputs": [],
   "source": []
  }
 ],
 "metadata": {
  "kernelspec": {
   "display_name": "core-JXcGQI7U-py3.10",
   "language": "python",
   "name": "python3"
  },
  "language_info": {
   "codemirror_mode": {
    "name": "ipython",
    "version": 3
   },
   "file_extension": ".py",
   "mimetype": "text/x-python",
   "name": "python",
   "nbconvert_exporter": "python",
   "pygments_lexer": "ipython3",
   "version": "3.10.13"
  }
 },
 "nbformat": 4,
 "nbformat_minor": 2
}
