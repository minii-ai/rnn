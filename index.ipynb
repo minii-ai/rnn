{
 "cells": [
  {
   "cell_type": "code",
   "execution_count": 1,
   "metadata": {},
   "outputs": [],
   "source": [
    "import numpy as np"
   ]
  },
  {
   "cell_type": "code",
   "execution_count": 2,
   "metadata": {},
   "outputs": [],
   "source": [
    "np.random.seed(0)"
   ]
  },
  {
   "cell_type": "code",
   "execution_count": 3,
   "metadata": {},
   "outputs": [
    {
     "data": {
      "text/plain": [
       "({'l': 0, 'h': 1, ' ': 2, 'd': 3, 'r': 4, 'o': 5, 'e': 6, 'w': 7},\n",
       " {0: 'l', 1: 'h', 2: ' ', 3: 'd', 4: 'r', 5: 'o', 6: 'e', 7: 'w'})"
      ]
     },
     "execution_count": 3,
     "metadata": {},
     "output_type": "execute_result"
    }
   ],
   "source": [
    "data = \"hello world\"\n",
    "chars = list(set(data))\n",
    "vocab_size = len(chars)\n",
    "\n",
    "chars_to_indices = {char: i for i, char in enumerate(chars)}\n",
    "indices_to_chars = {i: char for i, char in enumerate(chars)}\n",
    "\n",
    "chars_to_indices, indices_to_chars"
   ]
  },
  {
   "cell_type": "code",
   "execution_count": 4,
   "metadata": {},
   "outputs": [],
   "source": [
    "# RNN configs\n",
    "embedding_size = vocab_size\n",
    "hidden_size = 64\n",
    "output_size = vocab_size"
   ]
  },
  {
   "cell_type": "code",
   "execution_count": 5,
   "metadata": {},
   "outputs": [],
   "source": [
    "# Matrices\n",
    "Wxh = np.random.randn(embedding_size, hidden_size)\n",
    "Whh = np.random.randn(hidden_size, hidden_size)\n",
    "bh = np.random.randn(1, hidden_size)\n",
    "\n",
    "Why = np.random.randn(hidden_size, output_size)\n",
    "by = np.random.randn(1, output_size)"
   ]
  },
  {
   "cell_type": "code",
   "execution_count": 6,
   "metadata": {},
   "outputs": [],
   "source": [
    "def softmax(z):\n",
    "    e_z = np.exp(z)\n",
    "    return e_z / e_z.sum(axis=1)\n",
    "\n",
    "def rnn(x_t, h_prev):\n",
    "    assert x_t.shape == (1, embedding_size)\n",
    "    assert h_prev.shape == (1, hidden_size)\n",
    "\n",
    "    h_next = np.tanh(x_t @ Wxh + h_prev @ Whh + bh)\n",
    "    probs = softmax(h_next @ Why + by)\n",
    "    \n",
    "    return probs, h_next\n",
    "\n",
    "def sample(char, n):\n",
    "    # sample rnn n times starting with the first char\n",
    "    x = np.zeros((1, vocab_size))\n",
    "    idx = chars_to_indices[char]\n",
    "    x[:, idx] = 1 # one hot encoding\n",
    "    h =  np.zeros((1, hidden_size)) # hidden state\n",
    "    idxes = []\n",
    "    \n",
    "    for i in range(n):\n",
    "        probs, h = rnn(x, h) # xt, hprev -> rnn -> probs, hnext\n",
    "        idx = np.random.choice(vocab_size, p=probs.ravel()) # .ravel returns a 1d array\n",
    "        \n",
    "        x = np.zeros((1, vocab_size))\n",
    "        x[:, idx] = 1\n",
    "        idxes.append(idx)\n",
    "\n",
    "    chars = \"\".join([indices_to_chars[i] for i in idxes])\n",
    "    return chars"
   ]
  },
  {
   "cell_type": "code",
   "execution_count": 7,
   "metadata": {},
   "outputs": [
    {
     "data": {
      "text/plain": [
       "((1, 8), (1, 64))"
      ]
     },
     "execution_count": 7,
     "metadata": {},
     "output_type": "execute_result"
    }
   ],
   "source": [
    "x_t = np.random.randn(1, embedding_size)\n",
    "h_prev = np.random.randn(1, hidden_size)\n",
    "\n",
    "probs, h_next = rnn(x_t, h_prev)\n",
    "probs.shape, h_next.shape"
   ]
  },
  {
   "cell_type": "code",
   "execution_count": 8,
   "metadata": {},
   "outputs": [
    {
     "data": {
      "text/plain": [
       "([1, 6, 0, 0, 5, 2, 7, 5, 4, 0], [6, 0, 0, 5, 2, 7, 5, 4, 0, 3])"
      ]
     },
     "execution_count": 8,
     "metadata": {},
     "output_type": "execute_result"
    }
   ],
   "source": [
    "inp = [chars_to_indices[c] for c in data[:-1]]\n",
    "target = [chars_to_indices[c] for c in data[1:]]\n",
    "\n",
    "inp, target"
   ]
  },
  {
   "cell_type": "code",
   "execution_count": 9,
   "metadata": {},
   "outputs": [
    {
     "data": {
      "text/plain": [
       "'oleo'"
      ]
     },
     "execution_count": 9,
     "metadata": {},
     "output_type": "execute_result"
    }
   ],
   "source": [
    "sample(\"h\", 4)"
   ]
  },
  {
   "cell_type": "code",
   "execution_count": 12,
   "metadata": {},
   "outputs": [
    {
     "name": "stdout",
     "output_type": "stream",
     "text": [
      "[Loss]: 0.17451268609323645\n",
      "[Loss]: 0.17375909108688162\n",
      "[Loss]: 0.13385497918001746\n",
      "[Loss]: 0.14383886885469332\n",
      "[Loss]: 0.1391847800572504\n",
      "[Loss]: 0.1366983881199949\n",
      "[Loss]: 0.26720541103775375\n",
      "[Loss]: 0.0909076572658633\n",
      "[Loss]: 0.0758726817403176\n",
      "[Loss]: 0.06507753096845878\n",
      "[Loss]: 0.05915160656921544\n",
      "[Loss]: 0.055875382546293886\n",
      "[Loss]: 0.049564737177157\n",
      "[Loss]: 0.04413006234874034\n",
      "[Loss]: 0.04079030082078297\n",
      "[Loss]: 0.03835732821817593\n",
      "[Loss]: 0.035424863811461454\n",
      "[Loss]: 0.03373623720239437\n",
      "[Loss]: 0.03309506088049098\n",
      "[Loss]: 0.03279287847058787\n",
      "[Loss]: 0.032736693861392045\n",
      "[Loss]: 0.03284918538597191\n",
      "[Loss]: 0.03305240385748944\n",
      "[Loss]: 0.033283815686461216\n",
      "[Loss]: 0.033497110560828484\n",
      "[Loss]: 0.03365878784091868\n",
      "[Loss]: 0.03374674201520487\n",
      "[Loss]: 0.03374628801761764\n",
      "[Loss]: 0.0336458873208233\n",
      "[Loss]: 0.03343422471885246\n",
      "[Loss]: 0.03309917331253082\n",
      "[Loss]: 0.032628814544167266\n",
      "[Loss]: 0.03201460456391382\n",
      "[Loss]: 0.0312566165990592\n",
      "[Loss]: 0.03037071240746767\n",
      "[Loss]: 0.029396024419910877\n",
      "[Loss]: 0.028390249997532827\n",
      "[Loss]: 0.02740843047954206\n",
      "[Loss]: 0.026510795098934614\n",
      "[Loss]: 0.025820408443596617\n",
      "[Loss]: 0.025659492661474773\n",
      "[Loss]: 0.026630266294674174\n",
      "[Loss]: 0.02792692871887742\n",
      "[Loss]: 0.02772658684154852\n",
      "[Loss]: 0.026632626704015627\n",
      "[Loss]: 0.025609211096620704\n",
      "[Loss]: 0.024807871565258318\n",
      "[Loss]: 0.024158062945892733\n",
      "[Loss]: 0.023597570573936966\n",
      "[Loss]: 0.023092801486682368\n",
      "[Loss]: 0.022625996524145764\n",
      "[Loss]: 0.022187268945988645\n",
      "[Loss]: 0.02177080456175478\n",
      "[Loss]: 0.021372998746654215\n",
      "[Loss]: 0.020991490160034477\n",
      "[Loss]: 0.02062463973212234\n",
      "[Loss]: 0.020271245502292017\n",
      "[Loss]: 0.01993038823078883\n",
      "[Loss]: 0.019601351513594416\n",
      "[Loss]: 0.0192835844941743\n",
      "[Loss]: 0.01897668769550734\n",
      "[Loss]: 0.018680408393142216\n",
      "[Loss]: 0.018394633882435927\n",
      "[Loss]: 0.0181193706770135\n",
      "[Loss]: 0.017854697363081574\n",
      "[Loss]: 0.01760068233993406\n",
      "[Loss]: 0.017357269808620207\n",
      "[Loss]: 0.017124159431628677\n",
      "[Loss]: 0.016900727124275004\n",
      "[Loss]: 0.016686034602473178\n",
      "[Loss]: 0.016478939387674328\n",
      "[Loss]: 0.01627826407186261\n",
      "[Loss]: 0.016082956225715348\n",
      "[Loss]: 0.015892188105806095\n",
      "[Loss]: 0.015705385606058702\n",
      "[Loss]: 0.015522205395701734\n",
      "[Loss]: 0.015342486408543396\n",
      "[Loss]: 0.015166195361361547\n",
      "[Loss]: 0.014993377217641567\n",
      "[Loss]: 0.014824115673290152\n",
      "[Loss]: 0.014658505744775178\n",
      "[Loss]: 0.014496638803035911\n",
      "[Loss]: 0.014338598911713112\n",
      "[Loss]: 0.014184467937985189\n",
      "[Loss]: 0.014034335917972216\n",
      "[Loss]: 0.013888312921925048\n",
      "[Loss]: 0.013746539269067952\n",
      "[Loss]: 0.01360919214818477\n",
      "[Loss]: 0.013476488054331161\n",
      "[Loss]: 0.013348681492448335\n",
      "[Loss]: 0.013226060828912015\n",
      "[Loss]: 0.013108941933124398\n",
      "[Loss]: 0.012997659500135077\n",
      "[Loss]: 0.012892554997013642\n",
      "[Loss]: 0.01279395945784357\n",
      "[Loss]: 0.012702169365201032\n",
      "[Loss]: 0.01261741507433662\n",
      "[Loss]: 0.012539823881275843\n",
      "[Loss]: 0.01246938350488167\n",
      "[Loss]: 0.012405915082385404\n"
     ]
    }
   ],
   "source": [
    "lr = 1e-2\n",
    "for e in range(100):\n",
    "    # compute loss\n",
    "    loss = 0\n",
    "    xs, ps, hs = {}, {}, {}\n",
    "    h = np.zeros((1, hidden_size))\n",
    "    hs[-1] = h\n",
    "    for t in range(len(inp)):\n",
    "        idx = inp[t]\n",
    "        x = np.zeros((1, vocab_size))\n",
    "        x[:, idx] = 1\n",
    "        probs, h = rnn(x, h)\n",
    "        xs[t] = x\n",
    "        ps[t] = probs # save probs (we'll use this in backprop)\n",
    "        hs[t] = h\n",
    "\n",
    "        # cross entropy\n",
    "        pred = probs[0, target[t]]\n",
    "        loss += -np.log(pred)\n",
    "\n",
    "    # backprop, calculate gradients\n",
    "    dL_dWxh = np.zeros_like(Wxh)\n",
    "    dL_dWhh = np.zeros_like(Whh)\n",
    "    dL_dbh = np.zeros_like(bh)\n",
    "    dL_Why = np.zeros_like(Why)\n",
    "    dL_dby = np.zeros_like(by)\n",
    "    dF_dh = np.zeros((1, hidden_size))\n",
    "\n",
    "    for t in reversed(range(len(inp))):\n",
    "        dL_dz2 = np.copy(ps[t])\n",
    "        target_idx = target[t]\n",
    "        dL_dz2[:, target_idx] -= 1\n",
    "\n",
    "        # 2nd layer\n",
    "        dL_Why += dL_dz2 * hs[t].T\n",
    "        dL_dby += dL_dz2\n",
    "\n",
    "        # 1st layer\n",
    "        dh_dz1 = 1 - hs[t] ** 2\n",
    "        dL_dh = (dL_dz2 @ Why.T) + dF_dh \n",
    "\n",
    "        dL_dWxh += dL_dh * dh_dz1 * xs[t].T\n",
    "        dL_dWhh += dL_dh * dh_dz1 * hs[t - 1].T\n",
    "        dL_dbh += dL_dh * dh_dz1\n",
    "\n",
    "        # dF_dh = dL_dh * (dh_dz1 @ Whh.T)\n",
    "        dF_dh = dL_dh @ (dh_dz1 * Whh.T)\n",
    "\n",
    "    # clip gradients\n",
    "    for gradient in [dL_dWxh, dL_dWhh, dL_Why, dL_dbh, dL_dby]:\n",
    "        np.clip(gradient, -1, 1, out=gradient)\n",
    "\n",
    "    # gradient descent\n",
    "    for weights, gradient in zip([Wxh, Whh, Why, bh, by], [dL_dWxh, dL_dWhh, dL_Why, dL_dbh, dL_dby]):\n",
    "        weights -= lr * gradient\n",
    "\n",
    "    # break\n",
    "    \n",
    "    print(f\"[Loss]: {loss}\")"
   ]
  },
  {
   "cell_type": "code",
   "execution_count": 13,
   "metadata": {},
   "outputs": [
    {
     "data": {
      "text/plain": [
       "'ello world'"
      ]
     },
     "execution_count": 13,
     "metadata": {},
     "output_type": "execute_result"
    }
   ],
   "source": [
    "sample(\"h\", 10)"
   ]
  },
  {
   "cell_type": "code",
   "execution_count": null,
   "metadata": {},
   "outputs": [],
   "source": []
  }
 ],
 "metadata": {
  "kernelspec": {
   "display_name": "core-JXcGQI7U-py3.10",
   "language": "python",
   "name": "python3"
  },
  "language_info": {
   "codemirror_mode": {
    "name": "ipython",
    "version": 3
   },
   "file_extension": ".py",
   "mimetype": "text/x-python",
   "name": "python",
   "nbconvert_exporter": "python",
   "pygments_lexer": "ipython3",
   "version": "3.10.13"
  }
 },
 "nbformat": 4,
 "nbformat_minor": 2
}
