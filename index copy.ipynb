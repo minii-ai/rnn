{
 "cells": [
  {
   "cell_type": "code",
   "execution_count": 1,
   "metadata": {},
   "outputs": [],
   "source": [
    "import numpy as np"
   ]
  },
  {
   "cell_type": "code",
   "execution_count": 2,
   "metadata": {},
   "outputs": [],
   "source": [
    "np.random.seed(0)"
   ]
  },
  {
   "cell_type": "code",
   "execution_count": 3,
   "metadata": {},
   "outputs": [
    {
     "data": {
      "text/plain": [
       "({'e': 0, 'd': 1, 'r': 2, 'l': 3, 'h': 4, 'w': 5, ' ': 6, 'o': 7},\n",
       " {0: 'e', 1: 'd', 2: 'r', 3: 'l', 4: 'h', 5: 'w', 6: ' ', 7: 'o'})"
      ]
     },
     "execution_count": 3,
     "metadata": {},
     "output_type": "execute_result"
    }
   ],
   "source": [
    "data = \"hello world\"\n",
    "chars = list(set(data))\n",
    "vocab_size = len(chars)\n",
    "\n",
    "chars_to_indices = {char: i for i, char in enumerate(chars)}\n",
    "indices_to_chars = {i: char for i, char in enumerate(chars)}\n",
    "\n",
    "chars_to_indices, indices_to_chars"
   ]
  },
  {
   "cell_type": "code",
   "execution_count": 4,
   "metadata": {},
   "outputs": [],
   "source": [
    "# RNN configs\n",
    "embedding_size = vocab_size\n",
    "hidden_size = 64\n",
    "output_size = vocab_size"
   ]
  },
  {
   "cell_type": "code",
   "execution_count": 5,
   "metadata": {},
   "outputs": [],
   "source": [
    "# Matrices\n",
    "Wxh = np.random.randn(hidden_size, embedding_size)\n",
    "Whh = np.random.randn(hidden_size, hidden_size)\n",
    "bh = np.random.randn(1, hidden_size)\n",
    "\n",
    "Why = np.random.randn(output_size, hidden_size)\n",
    "by = np.random.randn(1, output_size)"
   ]
  },
  {
   "cell_type": "code",
   "execution_count": 6,
   "metadata": {},
   "outputs": [],
   "source": [
    "def softmax(z):\n",
    "    e_z = np.exp(z)\n",
    "    return e_z / e_z.sum(axis=1)\n",
    "\n",
    "def rnn(x_t, h_prev):\n",
    "    assert x_t.shape == (1, embedding_size)\n",
    "    assert h_prev.shape == (1, hidden_size)\n",
    "\n",
    "    h_next = np.tanh(x_t @ Wxh.T + h_prev @ Whh.T + bh)\n",
    "    probs = softmax(h_next @ Why.T + by)\n",
    "    \n",
    "    return probs, h_next\n",
    "\n",
    "def sample(char, n):\n",
    "    # sample rnn n times starting with the first char\n",
    "    x = np.zeros((1, vocab_size))\n",
    "    idx = chars_to_indices[char]\n",
    "    x[:, idx] = 1 # one hot encoding\n",
    "    h =  np.zeros((1, hidden_size)) # hidden state\n",
    "    idxes = []\n",
    "    \n",
    "    for i in range(n):\n",
    "        probs, h = rnn(x, h) # xt, hprev -> rnn -> probs, hnext\n",
    "        idx = np.random.choice(vocab_size, p=probs.ravel()) # .ravel returns a 1d array\n",
    "        \n",
    "        x = np.zeros((1, vocab_size))\n",
    "        x[:, idx] = 1\n",
    "        idxes.append(idx)\n",
    "\n",
    "    chars = \"\".join([indices_to_chars[i] for i in idxes])\n",
    "    return chars"
   ]
  },
  {
   "cell_type": "code",
   "execution_count": 7,
   "metadata": {},
   "outputs": [
    {
     "data": {
      "text/plain": [
       "((1, 8), (1, 64))"
      ]
     },
     "execution_count": 7,
     "metadata": {},
     "output_type": "execute_result"
    }
   ],
   "source": [
    "x_t = np.random.randn(1, embedding_size)\n",
    "h_prev = np.random.randn(1, hidden_size)\n",
    "\n",
    "probs, h_next = rnn(x_t, h_prev)\n",
    "probs.shape, h_next.shape"
   ]
  },
  {
   "cell_type": "code",
   "execution_count": 8,
   "metadata": {},
   "outputs": [
    {
     "data": {
      "text/plain": [
       "([4, 0, 3, 3, 7, 6, 5, 7, 2, 3], [0, 3, 3, 7, 6, 5, 7, 2, 3, 1])"
      ]
     },
     "execution_count": 8,
     "metadata": {},
     "output_type": "execute_result"
    }
   ],
   "source": [
    "inp = [chars_to_indices[c] for c in data[:-1]]\n",
    "target = [chars_to_indices[c] for c in data[1:]]\n",
    "\n",
    "inp, target"
   ]
  },
  {
   "cell_type": "code",
   "execution_count": 9,
   "metadata": {},
   "outputs": [
    {
     "data": {
      "text/plain": [
       "'oww '"
      ]
     },
     "execution_count": 9,
     "metadata": {},
     "output_type": "execute_result"
    }
   ],
   "source": [
    "sample(\"h\", 4)"
   ]
  },
  {
   "cell_type": "code",
   "execution_count": 23,
   "metadata": {},
   "outputs": [
    {
     "name": "stdout",
     "output_type": "stream",
     "text": [
      "[Loss]: 0.28650421268269377\n",
      "[Loss]: 0.2856201842461065\n",
      "[Loss]: 0.28472405238797843\n",
      "[Loss]: 0.2838156306411589\n",
      "[Loss]: 0.2828948011771858\n",
      "[Loss]: 0.2819615160610996\n",
      "[Loss]: 0.2810157971762303\n",
      "[Loss]: 0.2800577349147106\n",
      "[Loss]: 0.27908748577040754\n",
      "[Loss]: 0.27810526898843296\n",
      "[Loss]: 0.27711136242376055\n",
      "[Loss]: 0.276106097748638\n",
      "[Loss]: 0.27508985513067497\n",
      "[Loss]: 0.27406305748601545\n",
      "[Loss]: 0.273026164398071\n",
      "[Loss]: 0.2719796657834399\n",
      "[Loss]: 0.2709240753829382\n",
      "[Loss]: 0.26985992415592697\n",
      "[Loss]: 0.26878775365900415\n",
      "[Loss]: 0.2677081094937502\n",
      "[Loss]: 0.2666215349108297\n",
      "[Loss]: 0.26552856465865415\n",
      "[Loss]: 0.2644297191625696\n",
      "[Loss]: 0.26332549911614644\n",
      "[Loss]: 0.2622163805589683\n",
      "[Loss]: 0.2611028105067171\n",
      "[Loss]: 0.259985203189687\n",
      "[Loss]: 0.25886393694576904\n",
      "[Loss]: 0.25773935180410085\n",
      "[Loss]: 0.2566117477858618\n",
      "[Loss]: 0.25548138393985154\n",
      "[Loss]: 0.25434847812216904\n",
      "[Loss]: 0.25321320752180176\n",
      "[Loss]: 0.25207570992750916\n",
      "[Loss]: 0.2509360857257021\n",
      "[Loss]: 0.2497944006146746\n",
      "[Loss]: 0.24865068901701218\n",
      "[Loss]: 0.24750495816966986\n",
      "[Loss]: 0.24635719286941632\n",
      "[Loss]: 0.24520736084981373\n",
      "[Loss]: 0.24405541876377276\n",
      "[Loss]: 0.24290131874167542\n",
      "[Loss]: 0.24174501548750665\n",
      "[Loss]: 0.24058647386210724\n",
      "[Loss]: 0.23942567688138278\n",
      "[Loss]: 0.2382626340259874\n",
      "[Loss]: 0.23709738971752756\n",
      "[Loss]: 0.23593003176758834\n",
      "[Loss]: 0.23476069955808093\n",
      "[Loss]: 0.23358959167945734\n",
      "[Loss]: 0.23241697275750595\n",
      "[Loss]: 0.23124317926137045\n",
      "[Loss]: 0.23006862421804594\n",
      "[Loss]: 0.2288938009559989\n",
      "[Loss]: 0.22771928622847856\n",
      "[Loss]: 0.2265457432664347\n",
      "[Loss]: 0.22537392541324033\n",
      "[Loss]: 0.2242046809483627\n",
      "[Loss]: 0.2230389595066375\n",
      "[Loss]: 0.22187782018726374\n",
      "[Loss]: 0.22072244110251696\n",
      "[Loss]: 0.21957412982723465\n",
      "[Loss]: 0.21843433403885\n",
      "[Loss]: 0.21730465160422907\n",
      "[Loss]: 0.2161868394535703\n",
      "[Loss]: 0.21508282073844898\n",
      "[Loss]: 0.21399468995128376\n",
      "[Loss]: 0.21292471584794812\n",
      "[Loss]: 0.21187534214204\n",
      "[Loss]: 0.21084918602283545\n",
      "[Loss]: 0.2098490345949437\n",
      "[Loss]: 0.20887783935786966\n",
      "[Loss]: 0.20793870885047122\n",
      "[Loss]: 0.20703489958965968\n",
      "[Loss]: 0.20616980544230448\n",
      "[Loss]: 0.2053469455889248\n",
      "[Loss]: 0.20456995126917818\n",
      "[Loss]: 0.20384255154206096\n",
      "[Loss]: 0.2031685583456099\n",
      "[Loss]: 0.20255185119776428\n",
      "[Loss]: 0.20199636193584186\n",
      "[Loss]: 0.20150605993928386\n",
      "[Loss]: 0.20108493830952381\n",
      "[Loss]: 0.2007370014806595\n",
      "[Loss]: 0.20046625469351886\n",
      "[Loss]: 0.20027669567094014\n",
      "[Loss]: 0.20017230867340122\n",
      "[Loss]: 0.2001570608844063\n",
      "[Loss]: 0.20023490077441453\n",
      "[Loss]: 0.20040975773043831\n",
      "[Loss]: 0.20068554183993562\n",
      "[Loss]: 0.2010661423233987\n",
      "[Loss]: 0.20155542278105473\n",
      "[Loss]: 0.2021572112358854\n",
      "[Loss]: 0.20287528301626587\n",
      "[Loss]: 0.20371333493523433\n",
      "[Loss]: 0.2046749500992475\n",
      "[Loss]: 0.20576355411239491\n",
      "[Loss]: 0.2069823654997001\n",
      "[Loss]: 0.20833434588700595\n"
     ]
    }
   ],
   "source": [
    "lr = 1e-2\n",
    "for e in range(100):\n",
    "    # compute loss\n",
    "    loss = 0\n",
    "    xs, ps, hs = {}, {}, {}\n",
    "    h = np.zeros((1, hidden_size))\n",
    "    for t in range(len(inp)):\n",
    "        idx = inp[t]\n",
    "        x = np.zeros((1, vocab_size))\n",
    "        x[:, idx] = 1\n",
    "        probs, h = rnn(x, h)\n",
    "        xs[t] = x\n",
    "        ps[t] = probs # save probs (we'll use this in backprop)\n",
    "        hs[t] = h\n",
    "\n",
    "        # cross entropy\n",
    "        pred = probs[0, target[t]]\n",
    "        loss += -np.log(pred)\n",
    "\n",
    "    # backprop, calculate gradients\n",
    "    dL_dWxh = np.zeros_like(Wxh)\n",
    "    dL_dWhh = np.zeros_like(Whh)\n",
    "    dL_dbh = np.zeros_like(bh)\n",
    "    dL_Why = np.zeros_like(Why)\n",
    "    dL_dby = np.zeros_like(by)\n",
    "    dF_dh = np.zeros((1, hidden_size))\n",
    "\n",
    "    for t in reversed(range(len(inp))):\n",
    "        dL_dz2 = np.copy(ps[t])\n",
    "        target_idx = target[t]\n",
    "        dL_dz2[:, target_idx] -= 1\n",
    "\n",
    "        # print(dL_dz2.shape)\n",
    "\n",
    "        a = hs[t] * dL_dz2.T\n",
    "        # print(a.shape)\n",
    "\n",
    "        # 2nd layer\n",
    "        dL_Why += hs[t] * dL_dz2.T\n",
    "        dL_dby += dL_dz2\n",
    "\n",
    "\n",
    "        # 1st layer\n",
    "        dh_dz1 = 1 - hs[t] ** 2\n",
    "        dL_dh = dF_dh + (dL_dz2 @ Why) \n",
    "\n",
    "        # print((xs[t] * dh_dz1.T * dL_dh.T).shape)\n",
    "\n",
    "        dL_dWxh += xs[t] * dh_dz1.T * dL_dh.T\n",
    "        dL_dWhh +=  hs[t] * dh_dz1.T * dL_dh.T\n",
    "        dL_dbh +=  dh_dz1 * dL_dh\n",
    "\n",
    "        # raise RuntimeError\n",
    "\n",
    "        # dF_dh = dL_dh * (dh_dz1 @ Whh)\n",
    "\n",
    "    # clip gradients\n",
    "    for gradient in [dL_dWxh, dL_dWhh, dL_Why, dL_dbh, dL_dby]:\n",
    "        np.clip(gradient, -1, 1, out=gradient)\n",
    "        # np.clip(gradient, -5, 5, out=gradient)\n",
    "\n",
    "    # gradient descent\n",
    "    for weights, gradient in zip([Wxh, Whh, Why, bh, by], [dL_dWxh, dL_dWhh, dL_Why, dL_dbh, dL_dby]):\n",
    "        weights -= lr * gradient\n",
    "\n",
    "    # break\n",
    "    \n",
    "    print(f\"[Loss]: {loss}\")"
   ]
  },
  {
   "cell_type": "code",
   "execution_count": 16,
   "metadata": {},
   "outputs": [
    {
     "data": {
      "text/plain": [
       "'ello world'"
      ]
     },
     "execution_count": 16,
     "metadata": {},
     "output_type": "execute_result"
    }
   ],
   "source": [
    "sample(\"h\", 10)"
   ]
  },
  {
   "cell_type": "code",
   "execution_count": null,
   "metadata": {},
   "outputs": [],
   "source": []
  }
 ],
 "metadata": {
  "kernelspec": {
   "display_name": "core-JXcGQI7U-py3.10",
   "language": "python",
   "name": "python3"
  },
  "language_info": {
   "codemirror_mode": {
    "name": "ipython",
    "version": 3
   },
   "file_extension": ".py",
   "mimetype": "text/x-python",
   "name": "python",
   "nbconvert_exporter": "python",
   "pygments_lexer": "ipython3",
   "version": "3.10.13"
  }
 },
 "nbformat": 4,
 "nbformat_minor": 2
}
