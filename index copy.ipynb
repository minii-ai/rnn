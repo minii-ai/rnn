{
 "cells": [
  {
   "cell_type": "code",
   "execution_count": 1,
   "metadata": {},
   "outputs": [],
   "source": [
    "import numpy as np"
   ]
  },
  {
   "cell_type": "code",
   "execution_count": 2,
   "metadata": {},
   "outputs": [],
   "source": [
    "np.random.seed(0)"
   ]
  },
  {
   "cell_type": "code",
   "execution_count": 3,
   "metadata": {},
   "outputs": [
    {
     "data": {
      "text/plain": [
       "({'d': 0, 'h': 1, 'r': 2, 'l': 3, 'w': 4, 'o': 5, 'e': 6, ' ': 7},\n",
       " {0: 'd', 1: 'h', 2: 'r', 3: 'l', 4: 'w', 5: 'o', 6: 'e', 7: ' '})"
      ]
     },
     "execution_count": 3,
     "metadata": {},
     "output_type": "execute_result"
    }
   ],
   "source": [
    "data = \"hello world\"\n",
    "chars = list(set(data))\n",
    "vocab_size = len(chars)\n",
    "\n",
    "chars_to_indices = {char: i for i, char in enumerate(chars)}\n",
    "indices_to_chars = {i: char for i, char in enumerate(chars)}\n",
    "\n",
    "chars_to_indices, indices_to_chars"
   ]
  },
  {
   "cell_type": "code",
   "execution_count": 4,
   "metadata": {},
   "outputs": [],
   "source": [
    "# RNN configs\n",
    "embedding_size = vocab_size\n",
    "hidden_size = 64\n",
    "output_size = vocab_size"
   ]
  },
  {
   "cell_type": "code",
   "execution_count": 5,
   "metadata": {},
   "outputs": [],
   "source": [
    "# Matrices\n",
    "Wxh = np.random.randn(hidden_size, embedding_size)\n",
    "Whh = np.random.randn(hidden_size, hidden_size)\n",
    "bh = np.random.randn(1, hidden_size)\n",
    "\n",
    "Why = np.random.randn(output_size, hidden_size)\n",
    "by = np.random.randn(1, output_size)"
   ]
  },
  {
   "cell_type": "code",
   "execution_count": 6,
   "metadata": {},
   "outputs": [],
   "source": [
    "def softmax(z):\n",
    "    e_z = np.exp(z)\n",
    "    return e_z / e_z.sum(axis=1)\n",
    "\n",
    "def rnn(x_t, h_prev):\n",
    "    assert x_t.shape == (1, embedding_size)\n",
    "    assert h_prev.shape == (1, hidden_size)\n",
    "\n",
    "    h_next = np.tanh(x_t @ Wxh.T + h_prev @ Whh.T + bh)\n",
    "    probs = softmax(h_next @ Why.T + by)\n",
    "    \n",
    "    return probs, h_next\n",
    "\n",
    "def sample(char, n):\n",
    "    # sample rnn n times starting with the first char\n",
    "    x = np.zeros((1, vocab_size))\n",
    "    idx = chars_to_indices[char]\n",
    "    x[:, idx] = 1 # one hot encoding\n",
    "    h =  np.zeros((1, hidden_size)) # hidden state\n",
    "    idxes = []\n",
    "    \n",
    "    for i in range(n):\n",
    "        probs, h = rnn(x, h) # xt, hprev -> rnn -> probs, hnext\n",
    "        idx = np.random.choice(vocab_size, p=probs.ravel()) # .ravel returns a 1d array\n",
    "        \n",
    "        x = np.zeros((1, vocab_size))\n",
    "        x[:, idx] = 1\n",
    "        idxes.append(idx)\n",
    "\n",
    "    chars = \"\".join([indices_to_chars[i] for i in idxes])\n",
    "    return chars"
   ]
  },
  {
   "cell_type": "code",
   "execution_count": 7,
   "metadata": {},
   "outputs": [
    {
     "data": {
      "text/plain": [
       "((1, 8), (1, 64))"
      ]
     },
     "execution_count": 7,
     "metadata": {},
     "output_type": "execute_result"
    }
   ],
   "source": [
    "x_t = np.random.randn(1, embedding_size)\n",
    "h_prev = np.random.randn(1, hidden_size)\n",
    "\n",
    "probs, h_next = rnn(x_t, h_prev)\n",
    "probs.shape, h_next.shape"
   ]
  },
  {
   "cell_type": "code",
   "execution_count": 8,
   "metadata": {},
   "outputs": [
    {
     "data": {
      "text/plain": [
       "([1, 6, 3, 3, 5, 7, 4, 5, 2, 3], [6, 3, 3, 5, 7, 4, 5, 2, 3, 0])"
      ]
     },
     "execution_count": 8,
     "metadata": {},
     "output_type": "execute_result"
    }
   ],
   "source": [
    "inp = [chars_to_indices[c] for c in data[:-1]]\n",
    "target = [chars_to_indices[c] for c in data[1:]]\n",
    "\n",
    "inp, target"
   ]
  },
  {
   "cell_type": "code",
   "execution_count": 9,
   "metadata": {},
   "outputs": [
    {
     "data": {
      "text/plain": [
       "'howw'"
      ]
     },
     "execution_count": 9,
     "metadata": {},
     "output_type": "execute_result"
    }
   ],
   "source": [
    "sample(\"h\", 4)"
   ]
  },
  {
   "cell_type": "code",
   "execution_count": 15,
   "metadata": {},
   "outputs": [
    {
     "name": "stdout",
     "output_type": "stream",
     "text": [
      "[Loss]: 0.01055750703674984\n",
      "[Loss]: 0.010533980088234233\n",
      "[Loss]: 0.01051058024853176\n",
      "[Loss]: 0.010487306718386533\n",
      "[Loss]: 0.010464158686661403\n",
      "[Loss]: 0.01044113533181351\n",
      "[Loss]: 0.010418235823263278\n",
      "[Loss]: 0.010395459322668086\n",
      "[Loss]: 0.010372804985107486\n",
      "[Loss]: 0.010350271960177994\n",
      "[Loss]: 0.010327859393019879\n",
      "[Loss]: 0.0103055664252564\n",
      "[Loss]: 0.010283392195873153\n",
      "[Loss]: 0.010261335842031103\n",
      "[Loss]: 0.010239396499817616\n",
      "[Loss]: 0.010217573304941031\n",
      "[Loss]: 0.010195865393374502\n",
      "[Loss]: 0.010174271901949587\n",
      "[Loss]: 0.010152791968903178\n",
      "[Loss]: 0.01013142473438236\n",
      "[Loss]: 0.01011016934090768\n",
      "[Loss]: 0.010089024933802869\n",
      "[Loss]: 0.010067990661586399\n",
      "[Loss]: 0.010047065676329535\n",
      "[Loss]: 0.010026249133986642\n",
      "[Loss]: 0.010005540194697635\n",
      "[Loss]: 0.009984938023059503\n",
      "[Loss]: 0.009964441788381989\n",
      "[Loss]: 0.009944050664907784\n",
      "[Loss]: 0.009923763832023137\n",
      "[Loss]: 0.009903580474441927\n",
      "[Loss]: 0.00988349978237495\n",
      "[Loss]: 0.009863520951677033\n",
      "[Loss]: 0.009843643183983192\n",
      "[Loss]: 0.009823865686829882\n",
      "[Loss]: 0.009804187673755946\n",
      "[Loss]: 0.009784608364397308\n",
      "[Loss]: 0.009765126984569076\n",
      "[Loss]: 0.009745742766332667\n",
      "[Loss]: 0.009726454948057364\n",
      "[Loss]: 0.009707262774467144\n",
      "[Loss]: 0.009688165496685774\n",
      "[Loss]: 0.009669162372264227\n",
      "[Loss]: 0.009650252665210673\n",
      "[Loss]: 0.009631435646005666\n",
      "[Loss]: 0.009612710591615635\n",
      "[Loss]: 0.009594076785497483\n",
      "[Loss]: 0.009575533517601315\n",
      "[Loss]: 0.009557080084362872\n",
      "[Loss]: 0.009538715788694425\n",
      "[Loss]: 0.009520439939975386\n",
      "[Loss]: 0.00950225185402963\n",
      "[Loss]: 0.009484150853109106\n",
      "[Loss]: 0.009466136265868097\n",
      "[Loss]: 0.009448207427333138\n",
      "[Loss]: 0.009430363678881856\n",
      "[Loss]: 0.009412604368201679\n",
      "[Loss]: 0.009394928849260561\n",
      "[Loss]: 0.009377336482271716\n",
      "[Loss]: 0.009359826633654228\n",
      "[Loss]: 0.009342398675996693\n",
      "[Loss]: 0.009325051988010388\n",
      "[Loss]: 0.009307785954494257\n",
      "[Loss]: 0.009290599966292092\n",
      "[Loss]: 0.009273493420244847\n",
      "[Loss]: 0.009256465719149622\n",
      "[Loss]: 0.009239516271717424\n",
      "[Loss]: 0.009222644492521156\n",
      "[Loss]: 0.009205849801959492\n",
      "[Loss]: 0.009189131626205892\n",
      "[Loss]: 0.009172489397162698\n",
      "[Loss]: 0.009155922552418686\n",
      "[Loss]: 0.00913943053520443\n",
      "[Loss]: 0.009123012794343303\n",
      "[Loss]: 0.009106668784209033\n",
      "[Loss]: 0.009090397964683536\n",
      "[Loss]: 0.009074199801109224\n",
      "[Loss]: 0.009058073764247285\n",
      "[Loss]: 0.009042019330234921\n",
      "[Loss]: 0.00902603598054305\n",
      "[Loss]: 0.00901012320193568\n",
      "[Loss]: 0.00899428048642792\n",
      "[Loss]: 0.008978507331246503\n",
      "[Loss]: 0.008962803238790795\n",
      "[Loss]: 0.008947167716594312\n",
      "[Loss]: 0.008931600277288414\n",
      "[Loss]: 0.008916100438567146\n",
      "[Loss]: 0.008900667723146854\n",
      "[Loss]: 0.008885301658739119\n",
      "[Loss]: 0.008870001778012367\n",
      "[Loss]: 0.008854767618562841\n",
      "[Loss]: 0.008839598722884869\n",
      "[Loss]: 0.008824494638335725\n",
      "[Loss]: 0.008809454917115673\n",
      "[Loss]: 0.008794479116234401\n",
      "[Loss]: 0.008779566797488297\n",
      "[Loss]: 0.008764717527436308\n",
      "[Loss]: 0.008749930877376137\n",
      "[Loss]: 0.008735206423323533\n",
      "[Loss]: 0.008720543745991379\n"
     ]
    }
   ],
   "source": [
    "lr = 1e-2\n",
    "for e in range(100):\n",
    "    # compute loss\n",
    "    loss = 0\n",
    "    xs, ps, hs = {}, {}, {}\n",
    "    h = np.zeros((1, hidden_size))\n",
    "    hs[-1] = h\n",
    "    for t in range(len(inp)):\n",
    "        idx = inp[t]\n",
    "        x = np.zeros((1, vocab_size))\n",
    "        x[:, idx] = 1\n",
    "        probs, h = rnn(x, h)\n",
    "        xs[t] = x\n",
    "        ps[t] = probs # save probs (we'll use this in backprop)\n",
    "        hs[t] = h\n",
    "\n",
    "        # cross entropy\n",
    "        pred = probs[0, target[t]]\n",
    "        loss += -np.log(pred)\n",
    "\n",
    "    # backprop, calculate gradients\n",
    "    dL_dWxh = np.zeros_like(Wxh)\n",
    "    dL_dWhh = np.zeros_like(Whh)\n",
    "    dL_dbh = np.zeros_like(bh)\n",
    "    dL_Why = np.zeros_like(Why)\n",
    "    dL_dby = np.zeros_like(by)\n",
    "    dF_dh = np.zeros((1, hidden_size))\n",
    "\n",
    "    for t in reversed(range(len(inp))):\n",
    "        dL_dz2 = np.copy(ps[t])\n",
    "        target_idx = target[t]\n",
    "        dL_dz2[:, target_idx] -= 1\n",
    "\n",
    "        # print(dL_dz2.shape)\n",
    "\n",
    "        a = hs[t] * dL_dz2.T\n",
    "        # print(a.shape)\n",
    "\n",
    "        # 2nd layer\n",
    "        dL_Why += hs[t] * dL_dz2.T\n",
    "        dL_dby += dL_dz2\n",
    "\n",
    "\n",
    "        # 1st layer\n",
    "        dh_dz1 = 1 - hs[t] ** 2\n",
    "        dL_dh = dF_dh + (dL_dz2 @ Why) \n",
    "\n",
    "        # print((xs[t] * dh_dz1.T * dL_dh.T).shape)\n",
    "\n",
    "        dL_dWxh += xs[t] * dh_dz1.T * dL_dh.T\n",
    "        dL_dWhh +=  hs[t - 1] * dh_dz1.T * dL_dh.T\n",
    "        dL_dbh +=  dh_dz1 * dL_dh\n",
    "\n",
    "        # raise RuntimeError\n",
    "\n",
    "        dF_dh = dL_dh * (dh_dz1 @ Whh)\n",
    "\n",
    "    # clip gradients\n",
    "    for gradient in [dL_dWxh, dL_dWhh, dL_Why, dL_dbh, dL_dby]:\n",
    "        np.clip(gradient, -1, 1, out=gradient)\n",
    "        # np.clip(gradient, -5, 5, out=gradient)\n",
    "\n",
    "    # gradient descent\n",
    "    for weights, gradient in zip([Wxh, Whh, Why, bh, by], [dL_dWxh, dL_dWhh, dL_Why, dL_dbh, dL_dby]):\n",
    "        weights -= lr * gradient\n",
    "\n",
    "    # break\n",
    "    \n",
    "    print(f\"[Loss]: {loss}\")"
   ]
  },
  {
   "cell_type": "code",
   "execution_count": 41,
   "metadata": {},
   "outputs": [
    {
     "data": {
      "text/plain": [
       "'ello worll'"
      ]
     },
     "execution_count": 41,
     "metadata": {},
     "output_type": "execute_result"
    }
   ],
   "source": [
    "sample(\"h\", 10)"
   ]
  },
  {
   "cell_type": "code",
   "execution_count": null,
   "metadata": {},
   "outputs": [],
   "source": []
  }
 ],
 "metadata": {
  "kernelspec": {
   "display_name": "core-JXcGQI7U-py3.10",
   "language": "python",
   "name": "python3"
  },
  "language_info": {
   "codemirror_mode": {
    "name": "ipython",
    "version": 3
   },
   "file_extension": ".py",
   "mimetype": "text/x-python",
   "name": "python",
   "nbconvert_exporter": "python",
   "pygments_lexer": "ipython3",
   "version": "3.10.13"
  }
 },
 "nbformat": 4,
 "nbformat_minor": 2
}
