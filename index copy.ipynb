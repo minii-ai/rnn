{
 "cells": [
  {
   "cell_type": "code",
   "execution_count": 1,
   "metadata": {},
   "outputs": [],
   "source": [
    "import numpy as np"
   ]
  },
  {
   "cell_type": "code",
   "execution_count": 2,
   "metadata": {},
   "outputs": [],
   "source": [
    "np.random.seed(0)"
   ]
  },
  {
   "cell_type": "code",
   "execution_count": 3,
   "metadata": {},
   "outputs": [
    {
     "data": {
      "text/plain": [
       "({'d': 0, ' ': 1, 'h': 2, 'l': 3, 'w': 4, 'o': 5, 'e': 6, 'r': 7},\n",
       " {0: 'd', 1: ' ', 2: 'h', 3: 'l', 4: 'w', 5: 'o', 6: 'e', 7: 'r'})"
      ]
     },
     "execution_count": 3,
     "metadata": {},
     "output_type": "execute_result"
    }
   ],
   "source": [
    "data = \"hello world\"\n",
    "chars = list(set(data))\n",
    "vocab_size = len(chars)\n",
    "\n",
    "chars_to_indices = {char: i for i, char in enumerate(chars)}\n",
    "indices_to_chars = {i: char for i, char in enumerate(chars)}\n",
    "\n",
    "chars_to_indices, indices_to_chars"
   ]
  },
  {
   "cell_type": "code",
   "execution_count": 4,
   "metadata": {},
   "outputs": [],
   "source": [
    "# RNN configs\n",
    "embedding_size = vocab_size\n",
    "hidden_size = 64\n",
    "output_size = vocab_size"
   ]
  },
  {
   "cell_type": "code",
   "execution_count": 5,
   "metadata": {},
   "outputs": [],
   "source": [
    "# Matrices\n",
    "Wxh = np.random.randn(hidden_size, embedding_size)\n",
    "Whh = np.random.randn(hidden_size, hidden_size)\n",
    "bh = np.random.randn(1, hidden_size)\n",
    "\n",
    "Why = np.random.randn(output_size, hidden_size)\n",
    "by = np.random.randn(1, output_size)"
   ]
  },
  {
   "cell_type": "code",
   "execution_count": 6,
   "metadata": {},
   "outputs": [],
   "source": [
    "def softmax(z):\n",
    "    e_z = np.exp(z)\n",
    "    return e_z / e_z.sum(axis=1)\n",
    "\n",
    "def rnn(x_t, h_prev):\n",
    "    assert x_t.shape == (1, embedding_size)\n",
    "    assert h_prev.shape == (1, hidden_size)\n",
    "\n",
    "    h_next = np.tanh(x_t @ Wxh.T + h_prev @ Whh.T + bh)\n",
    "    probs = softmax(h_next @ Why.T + by)\n",
    "    \n",
    "    return probs, h_next\n",
    "\n",
    "def sample(char, n):\n",
    "    # sample rnn n times starting with the first char\n",
    "    x = np.zeros((1, vocab_size))\n",
    "    idx = chars_to_indices[char]\n",
    "    x[:, idx] = 1 # one hot encoding\n",
    "    h =  np.zeros((1, hidden_size)) # hidden state\n",
    "    idxes = []\n",
    "    \n",
    "    for i in range(n):\n",
    "        probs, h = rnn(x, h) # xt, hprev -> rnn -> probs, hnext\n",
    "        idx = np.random.choice(vocab_size, p=probs.ravel()) # .ravel returns a 1d array\n",
    "        \n",
    "        x = np.zeros((1, vocab_size))\n",
    "        x[:, idx] = 1\n",
    "        idxes.append(idx)\n",
    "\n",
    "    chars = \"\".join([indices_to_chars[i] for i in idxes])\n",
    "    return chars"
   ]
  },
  {
   "cell_type": "code",
   "execution_count": 7,
   "metadata": {},
   "outputs": [
    {
     "data": {
      "text/plain": [
       "((1, 8), (1, 64))"
      ]
     },
     "execution_count": 7,
     "metadata": {},
     "output_type": "execute_result"
    }
   ],
   "source": [
    "x_t = np.random.randn(1, embedding_size)\n",
    "h_prev = np.random.randn(1, hidden_size)\n",
    "\n",
    "probs, h_next = rnn(x_t, h_prev)\n",
    "probs.shape, h_next.shape"
   ]
  },
  {
   "cell_type": "code",
   "execution_count": 8,
   "metadata": {},
   "outputs": [
    {
     "data": {
      "text/plain": [
       "([2, 6, 3, 3, 5, 1, 4, 5, 7, 3], [6, 3, 3, 5, 1, 4, 5, 7, 3, 0])"
      ]
     },
     "execution_count": 8,
     "metadata": {},
     "output_type": "execute_result"
    }
   ],
   "source": [
    "inp = [chars_to_indices[c] for c in data[:-1]]\n",
    "target = [chars_to_indices[c] for c in data[1:]]\n",
    "\n",
    "inp, target"
   ]
  },
  {
   "cell_type": "code",
   "execution_count": 9,
   "metadata": {},
   "outputs": [
    {
     "data": {
      "text/plain": [
       "'loeo'"
      ]
     },
     "execution_count": 9,
     "metadata": {},
     "output_type": "execute_result"
    }
   ],
   "source": [
    "sample(\"h\", 4)"
   ]
  },
  {
   "cell_type": "code",
   "execution_count": 12,
   "metadata": {},
   "outputs": [
    {
     "name": "stdout",
     "output_type": "stream",
     "text": [
      "[Loss]: 34.66832563164107\n",
      "[Loss]: 30.01244846798594\n",
      "[Loss]: 15.645373755979268\n",
      "[Loss]: 19.971581194994467\n",
      "[Loss]: 16.805803682483308\n",
      "[Loss]: 9.408224506132868\n",
      "[Loss]: 15.408018660165883\n",
      "[Loss]: 13.132131775590006\n",
      "[Loss]: 18.13153660975756\n",
      "[Loss]: 16.19766730948435\n",
      "[Loss]: 8.106177982276225\n",
      "[Loss]: 5.733099683747487\n",
      "[Loss]: 8.642087613127027\n",
      "[Loss]: 5.566229676227321\n",
      "[Loss]: 8.901615511658363\n",
      "[Loss]: 4.796896136081292\n",
      "[Loss]: 4.334701418111371\n",
      "[Loss]: 3.1445381953574962\n",
      "[Loss]: 2.7286873390105884\n",
      "[Loss]: 2.506543504310333\n",
      "[Loss]: 9.401562696718074\n",
      "[Loss]: 12.020476091635857\n",
      "[Loss]: 20.258330393832463\n",
      "[Loss]: 13.578317095301559\n",
      "[Loss]: 3.265648817178202\n",
      "[Loss]: 2.5550103997640603\n",
      "[Loss]: 15.303672286712096\n",
      "[Loss]: 5.675782228356795\n",
      "[Loss]: 21.860475767198363\n",
      "[Loss]: 5.085170591650057\n",
      "[Loss]: 21.601537383035524\n",
      "[Loss]: 24.837529372343674\n",
      "[Loss]: 11.707394669172452\n",
      "[Loss]: 13.242564407857488\n",
      "[Loss]: 5.380050193176152\n",
      "[Loss]: 1.5306742029382931\n",
      "[Loss]: 6.831515313061345\n",
      "[Loss]: 7.5374346179899945\n",
      "[Loss]: 16.650871392184108\n",
      "[Loss]: 18.1301516187544\n",
      "[Loss]: 18.720197483817373\n",
      "[Loss]: 18.57395762778482\n",
      "[Loss]: 14.914967489094424\n",
      "[Loss]: 7.519076939785398\n",
      "[Loss]: 1.7401857640984382\n",
      "[Loss]: 4.713448970533322\n",
      "[Loss]: 3.6702213298358437\n",
      "[Loss]: 4.621895116446783\n",
      "[Loss]: 14.394072764692398\n",
      "[Loss]: 6.237955813414339\n",
      "[Loss]: 1.7185243951309104\n",
      "[Loss]: 3.9447857825173545\n",
      "[Loss]: 1.5231496339573039\n",
      "[Loss]: 6.598543897220984\n",
      "[Loss]: 5.9721296788223555\n",
      "[Loss]: 3.0335414778410876\n",
      "[Loss]: 4.756687790343926\n",
      "[Loss]: 2.489806358781408\n",
      "[Loss]: 3.2605568209287945\n",
      "[Loss]: 4.116865368150411\n",
      "[Loss]: 0.7686367559039982\n",
      "[Loss]: 0.6034054242130172\n",
      "[Loss]: 0.513935810892082\n",
      "[Loss]: 0.4448107058035169\n",
      "[Loss]: 0.38764308454781854\n",
      "[Loss]: 0.3406038954776651\n",
      "[Loss]: 0.3036452828582413\n",
      "[Loss]: 0.2758044990646297\n",
      "[Loss]: 0.25492536967483087\n",
      "[Loss]: 0.23876304058055192\n",
      "[Loss]: 0.22567393633825436\n",
      "[Loss]: 0.21467829879831946\n",
      "[Loss]: 0.20527767182854023\n",
      "[Loss]: 0.19726985942275035\n",
      "[Loss]: 0.19062620714374284\n",
      "[Loss]: 0.18542573777215515\n",
      "[Loss]: 0.18181211392748442\n",
      "[Loss]: 0.1799008199182448\n",
      "[Loss]: 0.17957025959468847\n",
      "[Loss]: 0.1803923996858863\n",
      "[Loss]: 0.18204750708152515\n",
      "[Loss]: 0.1843132208310329\n",
      "[Loss]: 0.1867626324461624\n",
      "[Loss]: 0.18895358076311816\n",
      "[Loss]: 0.19043766604751522\n",
      "[Loss]: 0.19066360468796612\n",
      "[Loss]: 0.18909707035618206\n",
      "[Loss]: 0.1854892619707766\n",
      "[Loss]: 0.18008476385561256\n",
      "[Loss]: 0.1736781428902538\n",
      "[Loss]: 0.16773763688255\n",
      "[Loss]: 0.1649232433290846\n",
      "[Loss]: 0.16689609399834074\n",
      "[Loss]: 0.16179210046328787\n",
      "[Loss]: 0.17027393236677188\n",
      "[Loss]: 0.2248703314635516\n",
      "[Loss]: 0.37533681778869127\n",
      "[Loss]: 0.03246732385392984\n",
      "[Loss]: 0.03234049422425185\n",
      "[Loss]: 0.03232574581135191\n"
     ]
    }
   ],
   "source": [
    "lr = 1e-2\n",
    "for e in range(100):\n",
    "    # compute loss\n",
    "    loss = 0\n",
    "    xs, ps, hs = {}, {}, {}\n",
    "    h = np.zeros((1, hidden_size))\n",
    "    for t in range(len(inp)):\n",
    "        idx = inp[t]\n",
    "        x = np.zeros((1, vocab_size))\n",
    "        x[:, idx] = 1\n",
    "        probs, h = rnn(x, h)\n",
    "        xs[t] = x\n",
    "        ps[t] = probs # save probs (we'll use this in backprop)\n",
    "        hs[t] = h\n",
    "\n",
    "        # cross entropy\n",
    "        pred = probs[0, target[t]]\n",
    "        loss += -np.log(pred)\n",
    "\n",
    "    # backprop, calculate gradients\n",
    "    dL_dWxh = np.zeros_like(Wxh)\n",
    "    dL_dWhh = np.zeros_like(Whh)\n",
    "    dL_dbh = np.zeros_like(bh)\n",
    "    dL_Why = np.zeros_like(Why)\n",
    "    dL_dby = np.zeros_like(by)\n",
    "    dF_dh = np.zeros((1, hidden_size))\n",
    "\n",
    "    for t in reversed(range(len(inp))):\n",
    "        dL_dz2 = np.copy(ps[t])\n",
    "        target_idx = target[t]\n",
    "        dL_dz2[:, target_idx] -= 1\n",
    "\n",
    "        # print(dL_dz2.shape)\n",
    "\n",
    "        a = hs[t] * dL_dz2.T\n",
    "        # print(a.shape)\n",
    "\n",
    "        # 2nd layer\n",
    "        dL_Why += hs[t] * dL_dz2.T\n",
    "        dL_dby += dL_dz2\n",
    "\n",
    "\n",
    "        # 1st layer\n",
    "        dh_dz1 = 1 - hs[t] ** 2\n",
    "        dL_dh = dF_dh + (dL_dz2 @ Why) \n",
    "\n",
    "        # print((xs[t] * dh_dz1.T * dL_dh.T).shape)\n",
    "\n",
    "        dL_dWxh += xs[t] * dh_dz1.T * dL_dh.T\n",
    "        dL_dWhh +=  hs[t] * dh_dz1.T * dL_dh.T\n",
    "        dL_dbh +=  dh_dz1 * dL_dh\n",
    "\n",
    "        # raise RuntimeError\n",
    "\n",
    "        dF_dh = dL_dh * (dh_dz1 @ Whh)\n",
    "\n",
    "    # clip gradients\n",
    "    for gradient in [dL_dWxh, dL_dWhh, dL_Why, dL_dbh, dL_dby]:\n",
    "        np.clip(gradient, -5, 5, out=gradient)\n",
    "\n",
    "    # gradient descent\n",
    "    for weights, gradient in zip([Wxh, Whh, Why, bh, by], [dL_dWxh, dL_dWhh, dL_Why, dL_dbh, dL_dby]):\n",
    "        weights -= lr * gradient\n",
    "\n",
    "    # break\n",
    "    \n",
    "    print(f\"[Loss]: {loss}\")"
   ]
  },
  {
   "cell_type": "code",
   "execution_count": 13,
   "metadata": {},
   "outputs": [
    {
     "data": {
      "text/plain": [
       "'ello world'"
      ]
     },
     "execution_count": 13,
     "metadata": {},
     "output_type": "execute_result"
    }
   ],
   "source": [
    "sample(\"h\", 10)"
   ]
  },
  {
   "cell_type": "code",
   "execution_count": null,
   "metadata": {},
   "outputs": [],
   "source": []
  }
 ],
 "metadata": {
  "kernelspec": {
   "display_name": "core-JXcGQI7U-py3.10",
   "language": "python",
   "name": "python3"
  },
  "language_info": {
   "codemirror_mode": {
    "name": "ipython",
    "version": 3
   },
   "file_extension": ".py",
   "mimetype": "text/x-python",
   "name": "python",
   "nbconvert_exporter": "python",
   "pygments_lexer": "ipython3",
   "version": "3.10.13"
  }
 },
 "nbformat": 4,
 "nbformat_minor": 2
}
