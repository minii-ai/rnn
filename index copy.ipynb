{
 "cells": [
  {
   "cell_type": "code",
   "execution_count": 24,
   "metadata": {},
   "outputs": [],
   "source": [
    "import numpy as np"
   ]
  },
  {
   "cell_type": "code",
   "execution_count": 25,
   "metadata": {},
   "outputs": [],
   "source": [
    "np.random.seed(0)"
   ]
  },
  {
   "cell_type": "code",
   "execution_count": 26,
   "metadata": {},
   "outputs": [
    {
     "data": {
      "text/plain": [
       "({'e': 0, 'd': 1, 'r': 2, 'l': 3, 'h': 4, 'w': 5, ' ': 6, 'o': 7},\n",
       " {0: 'e', 1: 'd', 2: 'r', 3: 'l', 4: 'h', 5: 'w', 6: ' ', 7: 'o'})"
      ]
     },
     "execution_count": 26,
     "metadata": {},
     "output_type": "execute_result"
    }
   ],
   "source": [
    "data = \"hello world\"\n",
    "chars = list(set(data))\n",
    "vocab_size = len(chars)\n",
    "\n",
    "chars_to_indices = {char: i for i, char in enumerate(chars)}\n",
    "indices_to_chars = {i: char for i, char in enumerate(chars)}\n",
    "\n",
    "chars_to_indices, indices_to_chars"
   ]
  },
  {
   "cell_type": "code",
   "execution_count": 27,
   "metadata": {},
   "outputs": [],
   "source": [
    "# RNN configs\n",
    "embedding_size = vocab_size\n",
    "hidden_size = 64\n",
    "output_size = vocab_size"
   ]
  },
  {
   "cell_type": "code",
   "execution_count": 28,
   "metadata": {},
   "outputs": [],
   "source": [
    "# Matrices\n",
    "Wxh = np.random.randn(hidden_size, embedding_size)\n",
    "Whh = np.random.randn(hidden_size, hidden_size)\n",
    "bh = np.random.randn(1, hidden_size)\n",
    "\n",
    "Why = np.random.randn(output_size, hidden_size)\n",
    "by = np.random.randn(1, output_size)"
   ]
  },
  {
   "cell_type": "code",
   "execution_count": 29,
   "metadata": {},
   "outputs": [],
   "source": [
    "def softmax(z):\n",
    "    e_z = np.exp(z)\n",
    "    return e_z / e_z.sum(axis=1)\n",
    "\n",
    "def rnn(x_t, h_prev):\n",
    "    assert x_t.shape == (1, embedding_size)\n",
    "    assert h_prev.shape == (1, hidden_size)\n",
    "\n",
    "    h_next = np.tanh(x_t @ Wxh.T + h_prev @ Whh.T + bh)\n",
    "    probs = softmax(h_next @ Why.T + by)\n",
    "    \n",
    "    return probs, h_next\n",
    "\n",
    "def sample(char, n):\n",
    "    # sample rnn n times starting with the first char\n",
    "    x = np.zeros((1, vocab_size))\n",
    "    idx = chars_to_indices[char]\n",
    "    x[:, idx] = 1 # one hot encoding\n",
    "    h =  np.zeros((1, hidden_size)) # hidden state\n",
    "    idxes = []\n",
    "    \n",
    "    for i in range(n):\n",
    "        probs, h = rnn(x, h) # xt, hprev -> rnn -> probs, hnext\n",
    "        idx = np.random.choice(vocab_size, p=probs.ravel()) # .ravel returns a 1d array\n",
    "        \n",
    "        x = np.zeros((1, vocab_size))\n",
    "        x[:, idx] = 1\n",
    "        idxes.append(idx)\n",
    "\n",
    "    chars = \"\".join([indices_to_chars[i] for i in idxes])\n",
    "    return chars"
   ]
  },
  {
   "cell_type": "code",
   "execution_count": 30,
   "metadata": {},
   "outputs": [
    {
     "data": {
      "text/plain": [
       "((1, 8), (1, 64))"
      ]
     },
     "execution_count": 30,
     "metadata": {},
     "output_type": "execute_result"
    }
   ],
   "source": [
    "x_t = np.random.randn(1, embedding_size)\n",
    "h_prev = np.random.randn(1, hidden_size)\n",
    "\n",
    "probs, h_next = rnn(x_t, h_prev)\n",
    "probs.shape, h_next.shape"
   ]
  },
  {
   "cell_type": "code",
   "execution_count": 31,
   "metadata": {},
   "outputs": [
    {
     "data": {
      "text/plain": [
       "([4, 0, 3, 3, 7, 6, 5, 7, 2, 3], [0, 3, 3, 7, 6, 5, 7, 2, 3, 1])"
      ]
     },
     "execution_count": 31,
     "metadata": {},
     "output_type": "execute_result"
    }
   ],
   "source": [
    "inp = [chars_to_indices[c] for c in data[:-1]]\n",
    "target = [chars_to_indices[c] for c in data[1:]]\n",
    "\n",
    "inp, target"
   ]
  },
  {
   "cell_type": "code",
   "execution_count": 32,
   "metadata": {},
   "outputs": [
    {
     "data": {
      "text/plain": [
       "'oww '"
      ]
     },
     "execution_count": 32,
     "metadata": {},
     "output_type": "execute_result"
    }
   ],
   "source": [
    "sample(\"h\", 4)"
   ]
  },
  {
   "cell_type": "code",
   "execution_count": 40,
   "metadata": {},
   "outputs": [
    {
     "name": "stdout",
     "output_type": "stream",
     "text": [
      "[Loss]: 11.441951838284059\n",
      "[Loss]: 2.4575615294448836\n",
      "[Loss]: 0.17105415269927243\n",
      "[Loss]: 0.1756911138255791\n",
      "[Loss]: 4.301379457472539\n",
      "[Loss]: 0.16715079366591776\n",
      "[Loss]: 0.20270755962373097\n",
      "[Loss]: 9.009404894917743\n",
      "[Loss]: 6.1812131358699745\n",
      "[Loss]: 11.901331554344003\n",
      "[Loss]: 6.196250577762493\n",
      "[Loss]: 2.7809300030282307\n",
      "[Loss]: 0.9732807265446808\n",
      "[Loss]: 2.6957815124401834\n",
      "[Loss]: 5.979524001494333\n",
      "[Loss]: 1.78435540451556\n",
      "[Loss]: 7.16889769081539\n",
      "[Loss]: 10.372924103439392\n",
      "[Loss]: 6.6079802575047175\n",
      "[Loss]: 2.505708161540179\n",
      "[Loss]: 2.0895374333557117\n",
      "[Loss]: 4.030525385314281\n",
      "[Loss]: 8.04274608889471\n",
      "[Loss]: 3.604678843672761\n",
      "[Loss]: 0.5341681722827833\n",
      "[Loss]: 2.283785096223901\n",
      "[Loss]: 0.24692449453968893\n",
      "[Loss]: 5.875069379570699\n",
      "[Loss]: 10.19784068006303\n",
      "[Loss]: 0.49795366558945087\n",
      "[Loss]: 23.06719381105773\n",
      "[Loss]: 0.4592649710019393\n",
      "[Loss]: 0.3566240088264186\n",
      "[Loss]: 0.14539909295406786\n",
      "[Loss]: 2.1232443437829285\n",
      "[Loss]: 7.435278321871906\n",
      "[Loss]: 0.8074090360885473\n",
      "[Loss]: 9.950700071946148\n",
      "[Loss]: 5.775292320905169\n",
      "[Loss]: 0.20409610222314334\n",
      "[Loss]: 1.0211744833235301\n",
      "[Loss]: 1.3545323056439835\n",
      "[Loss]: 4.463106025559613\n",
      "[Loss]: 2.8111972640037495\n",
      "[Loss]: 0.5320972579782646\n",
      "[Loss]: 0.7568850775145781\n",
      "[Loss]: 2.903453316788076\n",
      "[Loss]: 0.3988268412829191\n",
      "[Loss]: 2.8756542868725377\n",
      "[Loss]: 0.3380110948742544\n",
      "[Loss]: 0.24483256032938075\n",
      "[Loss]: 0.2211116520573864\n",
      "[Loss]: 0.20592627831940175\n",
      "[Loss]: 0.19645800039935485\n",
      "[Loss]: 0.19058052220601593\n",
      "[Loss]: 0.18687419660278576\n",
      "[Loss]: 0.18971132684700948\n",
      "[Loss]: 0.184788584017888\n",
      "[Loss]: 0.16536680476531018\n",
      "[Loss]: 0.15478498541011423\n",
      "[Loss]: 0.15824849216567904\n",
      "[Loss]: 0.15416796378499198\n",
      "[Loss]: 0.15429540222239987\n",
      "[Loss]: 0.15179556661159932\n",
      "[Loss]: 1.2383444426359724\n",
      "[Loss]: 1.249381690770203\n",
      "[Loss]: 2.289177812639096\n",
      "[Loss]: 2.4137518052290927\n",
      "[Loss]: 20.979828014610135\n",
      "[Loss]: 14.884302778631406\n",
      "[Loss]: 4.856431596209812\n",
      "[Loss]: 2.8113248077018795\n",
      "[Loss]: 0.6668330027082555\n",
      "[Loss]: 1.699197970411018\n",
      "[Loss]: 10.026975753138442\n",
      "[Loss]: 3.060475095623725\n",
      "[Loss]: 3.0285367616299665\n",
      "[Loss]: 11.748054820420018\n",
      "[Loss]: 4.005404354594228\n",
      "[Loss]: 3.7012531014484114\n",
      "[Loss]: 7.270093272672673\n",
      "[Loss]: 1.1024961138891054\n",
      "[Loss]: 1.58172899387807\n",
      "[Loss]: 0.6423371015557487\n",
      "[Loss]: 2.680444947538796\n",
      "[Loss]: 0.3561790842991402\n",
      "[Loss]: 1.0658503465245424\n",
      "[Loss]: 3.3629234814887443\n",
      "[Loss]: 0.5052063264415588\n",
      "[Loss]: 0.6676817518699367\n",
      "[Loss]: 0.32102597966650637\n",
      "[Loss]: 0.4129653908361085\n",
      "[Loss]: 0.24406029582555155\n",
      "[Loss]: 0.25554100383633255\n",
      "[Loss]: 2.088695238071829\n",
      "[Loss]: 2.7932801109991234\n",
      "[Loss]: 12.063529796285453\n",
      "[Loss]: 2.090072743446204\n",
      "[Loss]: 12.565367162754507\n",
      "[Loss]: 4.8217368292898675\n"
     ]
    }
   ],
   "source": [
    "lr = 1e-2\n",
    "for e in range(100):\n",
    "    # compute loss\n",
    "    loss = 0\n",
    "    xs, ps, hs = {}, {}, {}\n",
    "    h = np.zeros((1, hidden_size))\n",
    "    for t in range(len(inp)):\n",
    "        idx = inp[t]\n",
    "        x = np.zeros((1, vocab_size))\n",
    "        x[:, idx] = 1\n",
    "        probs, h = rnn(x, h)\n",
    "        xs[t] = x\n",
    "        ps[t] = probs # save probs (we'll use this in backprop)\n",
    "        hs[t] = h\n",
    "\n",
    "        # cross entropy\n",
    "        pred = probs[0, target[t]]\n",
    "        loss += -np.log(pred)\n",
    "\n",
    "    # backprop, calculate gradients\n",
    "    dL_dWxh = np.zeros_like(Wxh)\n",
    "    dL_dWhh = np.zeros_like(Whh)\n",
    "    dL_dbh = np.zeros_like(bh)\n",
    "    dL_Why = np.zeros_like(Why)\n",
    "    dL_dby = np.zeros_like(by)\n",
    "    dF_dh = np.zeros((1, hidden_size))\n",
    "\n",
    "    for t in reversed(range(len(inp))):\n",
    "        dL_dz2 = np.copy(ps[t])\n",
    "        target_idx = target[t]\n",
    "        dL_dz2[:, target_idx] -= 1\n",
    "\n",
    "        # print(dL_dz2.shape)\n",
    "\n",
    "        a = hs[t] * dL_dz2.T\n",
    "        # print(a.shape)\n",
    "\n",
    "        # 2nd layer\n",
    "        dL_Why += hs[t] * dL_dz2.T\n",
    "        dL_dby += dL_dz2\n",
    "\n",
    "\n",
    "        # 1st layer\n",
    "        dh_dz1 = 1 - hs[t] ** 2\n",
    "        dL_dh = dF_dh + (dL_dz2 @ Why) \n",
    "\n",
    "        # print((xs[t] * dh_dz1.T * dL_dh.T).shape)\n",
    "\n",
    "        dL_dWxh += xs[t] * dh_dz1.T * dL_dh.T\n",
    "        dL_dWhh +=  hs[t] * dh_dz1.T * dL_dh.T\n",
    "        dL_dbh +=  dh_dz1 * dL_dh\n",
    "\n",
    "        # raise RuntimeError\n",
    "\n",
    "        dF_dh = dL_dh * (dh_dz1 @ Whh)\n",
    "\n",
    "    # clip gradients\n",
    "    for gradient in [dL_dWxh, dL_dWhh, dL_Why, dL_dbh, dL_dby]:\n",
    "        np.clip(gradient, -1, 1, out=gradient)\n",
    "        # np.clip(gradient, -5, 5, out=gradient)\n",
    "\n",
    "    # gradient descent\n",
    "    for weights, gradient in zip([Wxh, Whh, Why, bh, by], [dL_dWxh, dL_dWhh, dL_Why, dL_dbh, dL_dby]):\n",
    "        weights -= lr * gradient\n",
    "\n",
    "    # break\n",
    "    \n",
    "    print(f\"[Loss]: {loss}\")"
   ]
  },
  {
   "cell_type": "code",
   "execution_count": 41,
   "metadata": {},
   "outputs": [
    {
     "data": {
      "text/plain": [
       "'ello worll'"
      ]
     },
     "execution_count": 41,
     "metadata": {},
     "output_type": "execute_result"
    }
   ],
   "source": [
    "sample(\"h\", 10)"
   ]
  },
  {
   "cell_type": "code",
   "execution_count": null,
   "metadata": {},
   "outputs": [],
   "source": []
  }
 ],
 "metadata": {
  "kernelspec": {
   "display_name": "core-JXcGQI7U-py3.10",
   "language": "python",
   "name": "python3"
  },
  "language_info": {
   "codemirror_mode": {
    "name": "ipython",
    "version": 3
   },
   "file_extension": ".py",
   "mimetype": "text/x-python",
   "name": "python",
   "nbconvert_exporter": "python",
   "pygments_lexer": "ipython3",
   "version": "3.10.13"
  }
 },
 "nbformat": 4,
 "nbformat_minor": 2
}
