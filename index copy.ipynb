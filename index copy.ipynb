{
 "cells": [
  {
   "cell_type": "code",
   "execution_count": 1,
   "metadata": {},
   "outputs": [],
   "source": [
    "import numpy as np"
   ]
  },
  {
   "cell_type": "code",
   "execution_count": 2,
   "metadata": {},
   "outputs": [],
   "source": [
    "np.random.seed(0)"
   ]
  },
  {
   "cell_type": "code",
   "execution_count": 3,
   "metadata": {},
   "outputs": [
    {
     "data": {
      "text/plain": [
       "({'w': 0, 'o': 1, ' ': 2, 'l': 3, 'h': 4, 'r': 5, 'e': 6, 'd': 7},\n",
       " {0: 'w', 1: 'o', 2: ' ', 3: 'l', 4: 'h', 5: 'r', 6: 'e', 7: 'd'})"
      ]
     },
     "execution_count": 3,
     "metadata": {},
     "output_type": "execute_result"
    }
   ],
   "source": [
    "data = \"hello world\"\n",
    "chars = list(set(data))\n",
    "vocab_size = len(chars)\n",
    "\n",
    "chars_to_indices = {char: i for i, char in enumerate(chars)}\n",
    "indices_to_chars = {i: char for i, char in enumerate(chars)}\n",
    "\n",
    "chars_to_indices, indices_to_chars"
   ]
  },
  {
   "cell_type": "code",
   "execution_count": 4,
   "metadata": {},
   "outputs": [],
   "source": [
    "# RNN configs\n",
    "embedding_size = vocab_size\n",
    "hidden_size = 64\n",
    "output_size = vocab_size"
   ]
  },
  {
   "cell_type": "code",
   "execution_count": 5,
   "metadata": {},
   "outputs": [],
   "source": [
    "# Matrices\n",
    "Wxh = np.random.randn(hidden_size, embedding_size)\n",
    "Whh = np.random.randn(hidden_size, hidden_size)\n",
    "bh = np.random.randn(1, hidden_size)\n",
    "\n",
    "Why = np.random.randn(output_size, hidden_size)\n",
    "by = np.random.randn(1, output_size)"
   ]
  },
  {
   "cell_type": "code",
   "execution_count": 6,
   "metadata": {},
   "outputs": [],
   "source": [
    "def softmax(z):\n",
    "    e_z = np.exp(z)\n",
    "    return e_z / e_z.sum(axis=1)\n",
    "\n",
    "def rnn(x_t, h_prev):\n",
    "    assert x_t.shape == (1, embedding_size)\n",
    "    assert h_prev.shape == (1, hidden_size)\n",
    "\n",
    "    h_next = np.tanh(x_t @ Wxh.T + h_prev @ Whh.T + bh)\n",
    "    probs = softmax(h_next @ Why.T + by)\n",
    "    \n",
    "    return probs, h_next\n",
    "\n",
    "def sample(char, n):\n",
    "    # sample rnn n times starting with the first char\n",
    "    x = np.zeros((1, vocab_size))\n",
    "    idx = chars_to_indices[char]\n",
    "    x[:, idx] = 1 # one hot encoding\n",
    "    h =  np.zeros((1, hidden_size)) # hidden state\n",
    "    idxes = []\n",
    "    \n",
    "    for i in range(n):\n",
    "        probs, h = rnn(x, h) # xt, hprev -> rnn -> probs, hnext\n",
    "        idx = np.random.choice(vocab_size, p=probs.ravel()) # .ravel returns a 1d array\n",
    "        \n",
    "        x = np.zeros((1, vocab_size))\n",
    "        x[:, idx] = 1\n",
    "        idxes.append(idx)\n",
    "\n",
    "    chars = \"\".join([indices_to_chars[i] for i in idxes])\n",
    "    return chars"
   ]
  },
  {
   "cell_type": "code",
   "execution_count": 7,
   "metadata": {},
   "outputs": [
    {
     "data": {
      "text/plain": [
       "((1, 8), (1, 64))"
      ]
     },
     "execution_count": 7,
     "metadata": {},
     "output_type": "execute_result"
    }
   ],
   "source": [
    "x_t = np.random.randn(1, embedding_size)\n",
    "h_prev = np.random.randn(1, hidden_size)\n",
    "\n",
    "probs, h_next = rnn(x_t, h_prev)\n",
    "probs.shape, h_next.shape"
   ]
  },
  {
   "cell_type": "code",
   "execution_count": 8,
   "metadata": {},
   "outputs": [
    {
     "data": {
      "text/plain": [
       "([4, 6, 3, 3, 1, 2, 0, 1, 5, 3], [6, 3, 3, 1, 2, 0, 1, 5, 3, 7])"
      ]
     },
     "execution_count": 8,
     "metadata": {},
     "output_type": "execute_result"
    }
   ],
   "source": [
    "inp = [chars_to_indices[c] for c in data[:-1]]\n",
    "target = [chars_to_indices[c] for c in data[1:]]\n",
    "\n",
    "inp, target"
   ]
  },
  {
   "cell_type": "code",
   "execution_count": 9,
   "metadata": {},
   "outputs": [
    {
     "data": {
      "text/plain": [
       "'drre'"
      ]
     },
     "execution_count": 9,
     "metadata": {},
     "output_type": "execute_result"
    }
   ],
   "source": [
    "sample(\"h\", 4)"
   ]
  },
  {
   "cell_type": "code",
   "execution_count": 14,
   "metadata": {},
   "outputs": [
    {
     "name": "stdout",
     "output_type": "stream",
     "text": [
      "[Loss]: 0.022469084694331867\n",
      "[Loss]: 0.022346227610248466\n",
      "[Loss]: 0.022223335036243613\n",
      "[Loss]: 0.02210050522022857\n",
      "[Loss]: 0.021977831373196637\n",
      "[Loss]: 0.021855401630460847\n",
      "[Loss]: 0.021733299053788294\n",
      "[Loss]: 0.021611601669188976\n",
      "[Loss]: 0.021490382535439174\n",
      "[Loss]: 0.021369709838773905\n",
      "[Loss]: 0.02124964700955284\n",
      "[Loss]: 0.021130252857072866\n",
      "[Loss]: 0.021011581719045\n",
      "[Loss]: 0.020893683622638992\n",
      "[Loss]: 0.02077660445428929\n",
      "[Loss]: 0.020660386135819515\n",
      "[Loss]: 0.02054506680471715\n",
      "[Loss]: 0.020430680996656663\n",
      "[Loss]: 0.020317259828658077\n",
      "[Loss]: 0.02020483118147008\n",
      "[Loss]: 0.020093419879973314\n",
      "[Loss]: 0.019983047870633652\n",
      "[Loss]: 0.019873734395140098\n",
      "[Loss]: 0.019765496159569195\n",
      "[Loss]: 0.019658347498514136\n",
      "[Loss]: 0.01955230053375466\n",
      "[Loss]: 0.019447365327139775\n",
      "[Loss]: 0.019343550027436953\n",
      "[Loss]: 0.019240861010998717\n",
      "[Loss]: 0.019139303016142327\n",
      "[Loss]: 0.0190388792712108\n",
      "[Loss]: 0.01893959161632549\n",
      "[Loss]: 0.018841440618887175\n",
      "[Loss]: 0.018744425682895544\n",
      "[Loss]: 0.018648545152235317\n",
      "[Loss]: 0.018553796408032796\n",
      "[Loss]: 0.01846017596026514\n",
      "[Loss]: 0.018367679533777742\n",
      "[Loss]: 0.01827630214891487\n",
      "[Loss]: 0.018186038196929908\n",
      "[Loss]: 0.018096881510396515\n",
      "[Loss]: 0.018008825428811083\n",
      "[Loss]: 0.017921862859589636\n",
      "[Loss]: 0.017835986334670505\n",
      "[Loss]: 0.017751188062923088\n",
      "[Loss]: 0.01766745997855831\n",
      "[Loss]: 0.017584793785746393\n",
      "[Loss]: 0.01750318099963382\n",
      "[Loss]: 0.017422612983942213\n",
      "[Loss]: 0.017343080985344598\n",
      "[Loss]: 0.017264576164787663\n",
      "[Loss]: 0.01718708962593669\n",
      "[Loss]: 0.01711061244091312\n",
      "[Loss]: 0.01703513567347372\n",
      "[Loss]: 0.01696065039980062\n",
      "[Loss]: 0.016887147727032613\n",
      "[Loss]: 0.016814618809688358\n",
      "[Loss]: 0.01674305486410652\n",
      "[Loss]: 0.01667244718103527\n",
      "[Loss]: 0.01660278713647454\n",
      "[Loss]: 0.016534066200899693\n",
      "[Loss]: 0.016466275946946867\n",
      "[Loss]: 0.016399408055673415\n",
      "[Loss]: 0.016333454321460977\n",
      "[Loss]: 0.016268406655646724\n",
      "[Loss]: 0.016204257088955325\n",
      "[Loss]: 0.016140997772774716\n",
      "[Loss]: 0.016078620979345048\n",
      "[Loss]: 0.016017119100894192\n",
      "[Loss]: 0.015956484647754114\n",
      "[Loss]: 0.015896710245490584\n",
      "[Loss]: 0.015837788631067728\n",
      "[Loss]: 0.01577971264806408\n",
      "[Loss]: 0.015722475240960383\n",
      "[Loss]: 0.01566606944850972\n",
      "[Loss]: 0.015610488396211847\n",
      "[Loss]: 0.015555725287914155\n",
      "[Loss]: 0.015501773396592816\n",
      "[Loss]: 0.015448626054333604\n",
      "[Loss]: 0.015396276641620668\n",
      "[Loss]: 0.015344718576001695\n",
      "[Loss]: 0.015293945300268867\n",
      "[Loss]: 0.01524395027031139\n",
      "[Loss]: 0.015194726942816712\n",
      "[Loss]: 0.015146268763052672\n",
      "[Loss]: 0.015098569152971779\n",
      "[Loss]: 0.015051621499910623\n",
      "[Loss]: 0.01500541914617883\n",
      "[Loss]: 0.014959955379846061\n",
      "[Loss]: 0.014915223427078312\n",
      "[Loss]: 0.014871216446416227\n",
      "[Loss]: 0.014827927525550363\n",
      "[Loss]: 0.014785349681358454\n",
      "[Loss]: 0.014743475864471401\n",
      "[Loss]: 0.014702298970344143\n",
      "[Loss]: 0.014661811860059704\n",
      "[Loss]: 0.014622007395905462\n",
      "[Loss]: 0.014582878499415856\n",
      "[Loss]: 0.014544418243354142\n",
      "[Loss]: 0.014506619994227136\n"
     ]
    }
   ],
   "source": [
    "lr = 1e-2\n",
    "for e in range(100):\n",
    "    # compute loss\n",
    "    loss = 0\n",
    "    xs, ps, hs = {}, {}, {}\n",
    "    h = np.zeros((1, hidden_size))\n",
    "    for t in range(len(inp)):\n",
    "        idx = inp[t]\n",
    "        x = np.zeros((1, vocab_size))\n",
    "        x[:, idx] = 1\n",
    "        probs, h = rnn(x, h)\n",
    "        xs[t] = x\n",
    "        ps[t] = probs # save probs (we'll use this in backprop)\n",
    "        hs[t] = h\n",
    "\n",
    "        # cross entropy\n",
    "        pred = probs[0, target[t]]\n",
    "        loss += -np.log(pred)\n",
    "\n",
    "    # backprop, calculate gradients\n",
    "    dL_dWxh = np.zeros_like(Wxh)\n",
    "    dL_dWhh = np.zeros_like(Whh)\n",
    "    dL_dbh = np.zeros_like(bh)\n",
    "    dL_Why = np.zeros_like(Why)\n",
    "    dL_dby = np.zeros_like(by)\n",
    "    dF_dh = np.zeros((1, hidden_size))\n",
    "\n",
    "    for t in reversed(range(len(inp))):\n",
    "        dL_dz2 = np.copy(ps[t])\n",
    "        target_idx = target[t]\n",
    "        dL_dz2[:, target_idx] -= 1\n",
    "\n",
    "        # print(dL_dz2.shape)\n",
    "\n",
    "        a = hs[t] * dL_dz2.T\n",
    "        # print(a.shape)\n",
    "\n",
    "        # 2nd layer\n",
    "        dL_Why += hs[t] * dL_dz2.T\n",
    "        dL_dby += dL_dz2\n",
    "\n",
    "\n",
    "        # 1st layer\n",
    "        dh_dz1 = 1 - hs[t] ** 2\n",
    "        dL_dh = dF_dh + (dL_dz2 @ Why) \n",
    "\n",
    "        # print((xs[t] * dh_dz1.T * dL_dh.T).shape)\n",
    "\n",
    "        dL_dWxh += xs[t] * dh_dz1.T * dL_dh.T\n",
    "        dL_dWhh +=  hs[t] * dh_dz1.T * dL_dh.T\n",
    "        dL_dbh +=  dh_dz1 * dL_dh\n",
    "\n",
    "        # raise RuntimeError\n",
    "\n",
    "        # dF_dh = dL_dh * (dh_dz1 @ Whh)\n",
    "\n",
    "    # clip gradients\n",
    "    for gradient in [dL_dWxh, dL_dWhh, dL_Why, dL_dbh, dL_dby]:\n",
    "        np.clip(gradient, -1, 1, out=gradient)\n",
    "        # np.clip(gradient, -5, 5, out=gradient)\n",
    "\n",
    "    # gradient descent\n",
    "    for weights, gradient in zip([Wxh, Whh, Why, bh, by], [dL_dWxh, dL_dWhh, dL_Why, dL_dbh, dL_dby]):\n",
    "        weights -= lr * gradient\n",
    "\n",
    "    # break\n",
    "    \n",
    "    print(f\"[Loss]: {loss}\")"
   ]
  },
  {
   "cell_type": "code",
   "execution_count": 15,
   "metadata": {},
   "outputs": [
    {
     "data": {
      "text/plain": [
       "'ello world'"
      ]
     },
     "execution_count": 15,
     "metadata": {},
     "output_type": "execute_result"
    }
   ],
   "source": [
    "sample(\"h\", 10)"
   ]
  },
  {
   "cell_type": "code",
   "execution_count": null,
   "metadata": {},
   "outputs": [],
   "source": []
  }
 ],
 "metadata": {
  "kernelspec": {
   "display_name": "core-JXcGQI7U-py3.10",
   "language": "python",
   "name": "python3"
  },
  "language_info": {
   "codemirror_mode": {
    "name": "ipython",
    "version": 3
   },
   "file_extension": ".py",
   "mimetype": "text/x-python",
   "name": "python",
   "nbconvert_exporter": "python",
   "pygments_lexer": "ipython3",
   "version": "3.10.13"
  }
 },
 "nbformat": 4,
 "nbformat_minor": 2
}
