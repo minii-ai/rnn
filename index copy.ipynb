{
 "cells": [
  {
   "cell_type": "code",
   "execution_count": 1,
   "metadata": {},
   "outputs": [],
   "source": [
    "import numpy as np"
   ]
  },
  {
   "cell_type": "code",
   "execution_count": 2,
   "metadata": {},
   "outputs": [],
   "source": [
    "np.random.seed(0)"
   ]
  },
  {
   "cell_type": "code",
   "execution_count": 3,
   "metadata": {},
   "outputs": [
    {
     "data": {
      "text/plain": [
       "({'e': 0, 'l': 1, ' ': 2, 'w': 3, 'h': 4, 'd': 5, 'o': 6, 'r': 7},\n",
       " {0: 'e', 1: 'l', 2: ' ', 3: 'w', 4: 'h', 5: 'd', 6: 'o', 7: 'r'})"
      ]
     },
     "execution_count": 3,
     "metadata": {},
     "output_type": "execute_result"
    }
   ],
   "source": [
    "data = \"hello world\"\n",
    "# data = open(\"./data/howtogetrich.txt\", \"r\").read()[:50]\n",
    "chars = list(set(data))\n",
    "vocab_size = len(chars)\n",
    "\n",
    "chars_to_indices = {char: i for i, char in enumerate(chars)}\n",
    "indices_to_chars = {i: char for i, char in enumerate(chars)}\n",
    "\n",
    "chars_to_indices, indices_to_chars"
   ]
  },
  {
   "cell_type": "code",
   "execution_count": 4,
   "metadata": {},
   "outputs": [],
   "source": [
    "# RNN configs\n",
    "embedding_size = vocab_size\n",
    "hidden_size = 64\n",
    "output_size = vocab_size"
   ]
  },
  {
   "cell_type": "code",
   "execution_count": 5,
   "metadata": {},
   "outputs": [],
   "source": [
    "# Matrices\n",
    "Wxh = np.random.randn(hidden_size, embedding_size) * 0.01\n",
    "Whh = np.random.randn(hidden_size, hidden_size) * 0.01\n",
    "bh = np.random.randn(1, hidden_size) * 0.01\n",
    "\n",
    "Why = np.random.randn(output_size, hidden_size)\n",
    "by = np.random.randn(1, output_size)"
   ]
  },
  {
   "cell_type": "code",
   "execution_count": 6,
   "metadata": {},
   "outputs": [],
   "source": [
    "def softmax(z):\n",
    "    e_z = np.exp(z)\n",
    "    return e_z / e_z.sum(axis=1)\n",
    "\n",
    "def rnn(x_t, h_prev):\n",
    "    assert x_t.shape == (1, embedding_size)\n",
    "    assert h_prev.shape == (1, hidden_size)\n",
    "\n",
    "    h_next = np.tanh(x_t @ Wxh.T + h_prev @ Whh.T + bh)\n",
    "    probs = softmax(h_next @ Why.T + by)\n",
    "    \n",
    "    return probs, h_next\n",
    "\n",
    "def sample(char, n):\n",
    "    # sample rnn n times starting with the first char\n",
    "    x = np.zeros((1, vocab_size))\n",
    "    idx = chars_to_indices[char]\n",
    "    x[:, idx] = 1 # one hot encoding\n",
    "    h =  np.zeros((1, hidden_size)) # hidden state\n",
    "    idxes = []\n",
    "    \n",
    "    for i in range(n):\n",
    "        probs, h = rnn(x, h) # xt, hprev -> rnn -> probs, hnext\n",
    "        idx = np.random.choice(vocab_size, p=probs.ravel()) # .ravel returns a 1d array\n",
    "        \n",
    "        x = np.zeros((1, vocab_size))\n",
    "        x[:, idx] = 1\n",
    "        idxes.append(idx)\n",
    "\n",
    "    chars = \"\".join([indices_to_chars[i] for i in idxes])\n",
    "    return chars"
   ]
  },
  {
   "cell_type": "code",
   "execution_count": 7,
   "metadata": {},
   "outputs": [
    {
     "data": {
      "text/plain": [
       "((1, 8), (1, 64))"
      ]
     },
     "execution_count": 7,
     "metadata": {},
     "output_type": "execute_result"
    }
   ],
   "source": [
    "x_t = np.random.randn(1, embedding_size)\n",
    "h_prev = np.random.randn(1, hidden_size)\n",
    "\n",
    "probs, h_next = rnn(x_t, h_prev)\n",
    "probs.shape, h_next.shape"
   ]
  },
  {
   "cell_type": "code",
   "execution_count": 8,
   "metadata": {},
   "outputs": [
    {
     "data": {
      "text/plain": [
       "([4, 0, 1, 1, 6, 2, 3, 6, 7, 1], [0, 1, 1, 6, 2, 3, 6, 7, 1, 5])"
      ]
     },
     "execution_count": 8,
     "metadata": {},
     "output_type": "execute_result"
    }
   ],
   "source": [
    "inp = [chars_to_indices[c] for c in data[:-1]]\n",
    "target = [chars_to_indices[c] for c in data[1:]]\n",
    "\n",
    "inp, target"
   ]
  },
  {
   "cell_type": "code",
   "execution_count": 9,
   "metadata": {},
   "outputs": [
    {
     "data": {
      "text/plain": [
       "'lddl'"
      ]
     },
     "execution_count": 9,
     "metadata": {},
     "output_type": "execute_result"
    }
   ],
   "source": [
    "sample(\"h\", 4)"
   ]
  },
  {
   "cell_type": "code",
   "execution_count": 10,
   "metadata": {},
   "outputs": [
    {
     "name": "stdout",
     "output_type": "stream",
     "text": [
      "[Loss]: 20.829193884479537\n",
      "[Loss]: 16.688622016432642\n",
      "[Loss]: 13.440257812256379\n",
      "[Loss]: 11.017179581267232\n",
      "[Loss]: 9.301011020790806\n",
      "[Loss]: 8.07086772624487\n",
      "[Loss]: 7.163233028549479\n",
      "[Loss]: 6.481406239408077\n",
      "[Loss]: 5.94717856767263\n",
      "[Loss]: 5.506982477658848\n",
      "[Loss]: 5.125948627521994\n",
      "[Loss]: 4.783173106661796\n",
      "[Loss]: 4.4655834934560845\n",
      "[Loss]: 4.165039865541143\n",
      "[Loss]: 3.876417312385815\n",
      "[Loss]: 3.59691105806394\n",
      "[Loss]: 3.3253040522451727\n",
      "[Loss]: 3.0618275961861405\n",
      "[Loss]: 2.8076581095354762\n",
      "[Loss]: 2.5647224545054947\n",
      "[Loss]: 2.3351220351064588\n",
      "[Loss]: 2.12082425758994\n",
      "[Loss]: 1.9232216822686887\n",
      "[Loss]: 1.7430301712725818\n",
      "[Loss]: 1.5802107020941276\n",
      "[Loss]: 1.434148032600261\n",
      "[Loss]: 1.303767602343764\n",
      "[Loss]: 1.1877725354409292\n",
      "[Loss]: 1.084745344310406\n",
      "[Loss]: 0.9932914490092796\n",
      "[Loss]: 0.9120788001689273\n",
      "[Loss]: 0.8398868343789266\n",
      "[Loss]: 0.7756128938621617\n",
      "[Loss]: 0.718277347516458\n",
      "[Loss]: 0.6670171742146666\n",
      "[Loss]: 0.6210773984402109\n",
      "[Loss]: 0.5798004042446616\n",
      "[Loss]: 0.5426150001507323\n",
      "[Loss]: 0.5090258415143898\n",
      "[Loss]: 0.47860363226519853\n",
      "[Loss]: 0.450976281786486\n",
      "[Loss]: 0.42582106581393164\n",
      "[Loss]: 0.40285776380370364\n",
      "[Loss]: 0.3818427041534812\n",
      "[Loss]: 0.3625636294289899\n",
      "[Loss]: 0.34483528786638934\n",
      "[Loss]: 0.32849565935894287\n",
      "[Loss]: 0.31340273034616833\n",
      "[Loss]: 0.2994317402683144\n",
      "[Loss]: 0.28647283115787125\n",
      "[Loss]: 0.27442904070857677\n",
      "[Loss]: 0.2632145873507122\n",
      "[Loss]: 0.2527534032590411\n",
      "[Loss]: 0.24297787775583052\n",
      "[Loss]: 0.23382777925793002\n",
      "[Loss]: 0.22524932880974352\n",
      "[Loss]: 0.21719440242090576\n",
      "[Loss]: 0.20961984297294062\n",
      "[Loss]: 0.20248686545656386\n",
      "[Loss]: 0.1957605418283465\n",
      "[Loss]: 0.18940935390214\n",
      "[Loss]: 0.18340480447857016\n",
      "[Loss]: 0.177721078418402\n",
      "[Loss]: 0.1723347466282111\n",
      "[Loss]: 0.16722450698837535\n",
      "[Loss]: 0.162370957146601\n",
      "[Loss]: 0.15775639485238785\n",
      "[Loss]: 0.15336464214214793\n",
      "[Loss]: 0.14918089022018807\n",
      "[Loss]: 0.14519156233360317\n",
      "[Loss]: 0.1413841923225965\n",
      "[Loss]: 0.1377473168530192\n",
      "[Loss]: 0.1342703796143559\n",
      "[Loss]: 0.1309436460016049\n",
      "[Loss]: 0.12775812700014463\n",
      "[Loss]: 0.12470551116404084\n",
      "[Loss]: 0.1217781037248771\n",
      "[Loss]: 0.11896877199395076\n",
      "[Loss]: 0.1162708963286372\n",
      "[Loss]: 0.11367832602665127\n",
      "[Loss]: 0.11118533959201618\n",
      "[Loss]: 0.108786608885726\n",
      "[Loss]: 0.10647716673388602\n",
      "[Loss]: 0.10425237761799244\n",
      "[Loss]: 0.10210791111698402\n",
      "[Loss]: 0.10003971780985987\n",
      "[Loss]: 0.09804400738171701\n",
      "[Loss]: 0.09611722870582218\n",
      "[Loss]: 0.09425605170029944\n",
      "[Loss]: 0.09245735078078135\n",
      "[Loss]: 0.09071818975030027\n",
      "[Loss]: 0.08903580798520785\n",
      "[Loss]: 0.08740760779132564\n",
      "[Loss]: 0.08583114281806674\n",
      "[Loss]: 0.08430410743024531\n",
      "[Loss]: 0.08282432694786425\n",
      "[Loss]: 0.08138974867350265\n",
      "[Loss]: 0.07999843363521278\n",
      "[Loss]: 0.0786485489801841\n",
      "[Loss]: 0.07733836096094071\n"
     ]
    }
   ],
   "source": [
    "lr = 1e-2\n",
    "for e in range(100):\n",
    "    # compute loss\n",
    "    loss = 0\n",
    "    xs, ps, hs = {}, {}, {}\n",
    "    h = np.zeros((1, hidden_size))\n",
    "    hs[-1] = h\n",
    "    for t in range(len(inp)):\n",
    "        idx = inp[t]\n",
    "        x = np.zeros((1, vocab_size))\n",
    "        x[:, idx] = 1\n",
    "        probs, h = rnn(x, h)\n",
    "        xs[t] = x\n",
    "        ps[t] = probs # save probs (we'll use this in backprop)\n",
    "        hs[t] = h\n",
    "\n",
    "        # cross entropy\n",
    "        pred = probs[0, target[t]]\n",
    "        loss += -np.log(pred)\n",
    "\n",
    "    # backprop, calculate gradients\n",
    "    dL_dWxh = np.zeros_like(Wxh)\n",
    "    dL_dWhh = np.zeros_like(Whh)\n",
    "    dL_dbh = np.zeros_like(bh)\n",
    "    dL_Why = np.zeros_like(Why)\n",
    "    dL_dby = np.zeros_like(by)\n",
    "    dF_dh = np.zeros((1, hidden_size))\n",
    "\n",
    "    for t in reversed(range(len(inp))):\n",
    "        dL_dz2 = np.copy(ps[t])\n",
    "        target_idx = target[t]\n",
    "        dL_dz2[:, target_idx] -= 1\n",
    "\n",
    "        # print(dL_dz2.shape)\n",
    "\n",
    "        a = hs[t] * dL_dz2.T\n",
    "        # print(a.shape)\n",
    "\n",
    "        # 2nd layer\n",
    "        dL_Why += hs[t] * dL_dz2.T\n",
    "        dL_dby += dL_dz2\n",
    "\n",
    "\n",
    "        # 1st layer\n",
    "        dh_dz1 = 1 - hs[t] ** 2\n",
    "        dL_dh = dF_dh + (dL_dz2 @ Why) \n",
    "\n",
    "        # print((xs[t] * dh_dz1.T * dL_dh.T).shape)\n",
    "\n",
    "        dL_dWxh += xs[t] * dh_dz1.T * dL_dh.T\n",
    "        dL_dWhh +=  hs[t - 1] * dh_dz1.T * dL_dh.T\n",
    "        dL_dbh += dh_dz1 * dL_dh\n",
    "\n",
    "        # raise RuntimeError\n",
    "\n",
    "        # dF_dh = dL_dh * (dh_dz1 @ Whh)\n",
    "        dF_dh = dL_dh @ (dh_dz1 * Whh)\n",
    "\n",
    "    # clip gradients\n",
    "    for gradient in [dL_dWxh, dL_dWhh, dL_Why, dL_dbh, dL_dby]:\n",
    "        np.clip(gradient, -1, 1, out=gradient)\n",
    "        # np.clip(gradient, -5, 5, out=gradient)\n",
    "\n",
    "    # gradient descent\n",
    "    for weights, gradient in zip([Wxh, Whh, Why, bh, by], [dL_dWxh, dL_dWhh, dL_Why, dL_dbh, dL_dby]):\n",
    "        weights -= lr * gradient\n",
    "\n",
    "    # break\n",
    "    \n",
    "    print(f\"[Loss]: {loss}\")"
   ]
  },
  {
   "cell_type": "code",
   "execution_count": 13,
   "metadata": {},
   "outputs": [
    {
     "data": {
      "text/plain": [
       "'ello world'"
      ]
     },
     "execution_count": 13,
     "metadata": {},
     "output_type": "execute_result"
    }
   ],
   "source": [
    "sample(\"h\", 10)"
   ]
  },
  {
   "cell_type": "code",
   "execution_count": null,
   "metadata": {},
   "outputs": [],
   "source": []
  }
 ],
 "metadata": {
  "kernelspec": {
   "display_name": "core-JXcGQI7U-py3.10",
   "language": "python",
   "name": "python3"
  },
  "language_info": {
   "codemirror_mode": {
    "name": "ipython",
    "version": 3
   },
   "file_extension": ".py",
   "mimetype": "text/x-python",
   "name": "python",
   "nbconvert_exporter": "python",
   "pygments_lexer": "ipython3",
   "version": "3.10.13"
  }
 },
 "nbformat": 4,
 "nbformat_minor": 2
}
