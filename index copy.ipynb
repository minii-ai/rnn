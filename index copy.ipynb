{
 "cells": [
  {
   "cell_type": "code",
   "execution_count": 1,
   "metadata": {},
   "outputs": [],
   "source": [
    "import numpy as np"
   ]
  },
  {
   "cell_type": "code",
   "execution_count": 2,
   "metadata": {},
   "outputs": [],
   "source": [
    "np.random.seed(0)"
   ]
  },
  {
   "cell_type": "code",
   "execution_count": 3,
   "metadata": {},
   "outputs": [
    {
     "data": {
      "text/plain": [
       "({'d': 0, 'h': 1, 'r': 2, 'e': 3, 'l': 4, ' ': 5, 'o': 6, 'w': 7},\n",
       " {0: 'd', 1: 'h', 2: 'r', 3: 'e', 4: 'l', 5: ' ', 6: 'o', 7: 'w'})"
      ]
     },
     "execution_count": 3,
     "metadata": {},
     "output_type": "execute_result"
    }
   ],
   "source": [
    "data = \"hello world\"\n",
    "chars = list(set(data))\n",
    "vocab_size = len(chars)\n",
    "\n",
    "chars_to_indices = {char: i for i, char in enumerate(chars)}\n",
    "indices_to_chars = {i: char for i, char in enumerate(chars)}\n",
    "\n",
    "chars_to_indices, indices_to_chars"
   ]
  },
  {
   "cell_type": "code",
   "execution_count": 4,
   "metadata": {},
   "outputs": [],
   "source": [
    "# RNN configs\n",
    "embedding_size = vocab_size\n",
    "hidden_size = 64\n",
    "output_size = vocab_size"
   ]
  },
  {
   "cell_type": "code",
   "execution_count": 5,
   "metadata": {},
   "outputs": [],
   "source": [
    "# Matrices\n",
    "Wxh = np.random.randn(hidden_size, embedding_size)\n",
    "Whh = np.random.randn(hidden_size, hidden_size)\n",
    "bh = np.random.randn(1, hidden_size)\n",
    "\n",
    "Why = np.random.randn(output_size, hidden_size)\n",
    "by = np.random.randn(1, output_size)"
   ]
  },
  {
   "cell_type": "code",
   "execution_count": 6,
   "metadata": {},
   "outputs": [],
   "source": [
    "def softmax(z):\n",
    "    e_z = np.exp(z)\n",
    "    return e_z / e_z.sum(axis=1)\n",
    "\n",
    "def rnn(x_t, h_prev):\n",
    "    assert x_t.shape == (1, embedding_size)\n",
    "    assert h_prev.shape == (1, hidden_size)\n",
    "\n",
    "    h_next = np.tanh(x_t @ Wxh.T + h_prev @ Whh.T + bh)\n",
    "    probs = softmax(h_next @ Why.T + by)\n",
    "    \n",
    "    return probs, h_next\n",
    "\n",
    "def sample(char, n):\n",
    "    # sample rnn n times starting with the first char\n",
    "    x = np.zeros((1, vocab_size))\n",
    "    idx = chars_to_indices[char]\n",
    "    x[:, idx] = 1 # one hot encoding\n",
    "    h =  np.zeros((1, hidden_size)) # hidden state\n",
    "    idxes = []\n",
    "    \n",
    "    for i in range(n):\n",
    "        probs, h = rnn(x, h) # xt, hprev -> rnn -> probs, hnext\n",
    "        idx = np.random.choice(vocab_size, p=probs.ravel()) # .ravel returns a 1d array\n",
    "        \n",
    "        x = np.zeros((1, vocab_size))\n",
    "        x[:, idx] = 1\n",
    "        idxes.append(idx)\n",
    "\n",
    "    chars = \"\".join([indices_to_chars[i] for i in idxes])\n",
    "    return chars"
   ]
  },
  {
   "cell_type": "code",
   "execution_count": 7,
   "metadata": {},
   "outputs": [
    {
     "data": {
      "text/plain": [
       "((1, 8), (1, 64))"
      ]
     },
     "execution_count": 7,
     "metadata": {},
     "output_type": "execute_result"
    }
   ],
   "source": [
    "x_t = np.random.randn(1, embedding_size)\n",
    "h_prev = np.random.randn(1, hidden_size)\n",
    "\n",
    "probs, h_next = rnn(x_t, h_prev)\n",
    "probs.shape, h_next.shape"
   ]
  },
  {
   "cell_type": "code",
   "execution_count": 8,
   "metadata": {},
   "outputs": [
    {
     "data": {
      "text/plain": [
       "([1, 3, 4, 4, 6, 5, 7, 6, 2, 4], [3, 4, 4, 6, 5, 7, 6, 2, 4, 0])"
      ]
     },
     "execution_count": 8,
     "metadata": {},
     "output_type": "execute_result"
    }
   ],
   "source": [
    "inp = [chars_to_indices[c] for c in data[:-1]]\n",
    "target = [chars_to_indices[c] for c in data[1:]]\n",
    "\n",
    "inp, target"
   ]
  },
  {
   "cell_type": "code",
   "execution_count": 9,
   "metadata": {},
   "outputs": [
    {
     "data": {
      "text/plain": [
       "'h ll'"
      ]
     },
     "execution_count": 9,
     "metadata": {},
     "output_type": "execute_result"
    }
   ],
   "source": [
    "sample(\"h\", 4)"
   ]
  },
  {
   "cell_type": "code",
   "execution_count": 13,
   "metadata": {},
   "outputs": [
    {
     "name": "stdout",
     "output_type": "stream",
     "text": [
      "[Loss]: 0.040794031434180575\n",
      "[Loss]: 0.03876195503839716\n",
      "[Loss]: 0.03820365797799319\n",
      "[Loss]: 0.03999122058794655\n",
      "[Loss]: 0.042103829528977066\n",
      "[Loss]: 0.04522776214553356\n",
      "[Loss]: 0.055235411341373136\n",
      "[Loss]: 0.11253054461134837\n",
      "[Loss]: 4.059742350521636\n",
      "[Loss]: 0.03725316581204526\n",
      "[Loss]: 25.129761149606594\n",
      "[Loss]: 6.145578231257514\n",
      "[Loss]: 22.812728276628068\n",
      "[Loss]: 1.5506217356399319\n",
      "[Loss]: 0.036959840591187\n",
      "[Loss]: 0.041052354981221756\n",
      "[Loss]: 0.02985188191916791\n",
      "[Loss]: 0.03717542054363595\n",
      "[Loss]: 0.030249471324755358\n",
      "[Loss]: 0.05341113373646717\n",
      "[Loss]: 0.02251650446542426\n",
      "[Loss]: 0.02150103486446526\n",
      "[Loss]: 0.020640864997418393\n",
      "[Loss]: 0.02039432361491233\n",
      "[Loss]: 6.278200427048614\n",
      "[Loss]: 0.022554688010496465\n",
      "[Loss]: 0.022409720394142775\n",
      "[Loss]: 0.02274680990301151\n",
      "[Loss]: 0.023282156530493592\n",
      "[Loss]: 0.02412240137093321\n",
      "[Loss]: 0.02499212620267554\n",
      "[Loss]: 0.025876337625106424\n",
      "[Loss]: 0.026814028969797257\n",
      "[Loss]: 0.03398760347345845\n",
      "[Loss]: 0.04407653064061701\n",
      "[Loss]: 0.04196047242866614\n",
      "[Loss]: 0.03956525400694082\n",
      "[Loss]: 0.036956514088923156\n",
      "[Loss]: 0.034362085217512474\n",
      "[Loss]: 0.03219833360371904\n",
      "[Loss]: 0.03066489913402722\n",
      "[Loss]: 0.029671935725914256\n",
      "[Loss]: 0.03155709680816664\n",
      "[Loss]: 0.04320507487414303\n",
      "[Loss]: 0.04292160349649248\n",
      "[Loss]: 2.049595869720315\n",
      "[Loss]: 0.37924206176705855\n",
      "[Loss]: 0.05182050943791094\n",
      "[Loss]: 0.21451924214424048\n",
      "[Loss]: 0.09403023810637043\n",
      "[Loss]: 0.015195993913723085\n",
      "[Loss]: 0.47080848449634416\n",
      "[Loss]: 0.011057737031480011\n",
      "[Loss]: 0.010929621257527495\n",
      "[Loss]: 0.010817730683564555\n",
      "[Loss]: 0.01071832344849512\n",
      "[Loss]: 0.010628430206754696\n",
      "[Loss]: 0.01054599128395667\n",
      "[Loss]: 0.010469656141502543\n",
      "[Loss]: 0.010398607531220313\n",
      "[Loss]: 0.010332427175063748\n",
      "[Loss]: 0.01027099511120581\n",
      "[Loss]: 0.010214424908105655\n",
      "[Loss]: 0.010163032430929019\n",
      "[Loss]: 0.010117322217784984\n",
      "[Loss]: 0.010077959253532305\n",
      "[Loss]: 0.010045675137475297\n",
      "[Loss]: 0.010021040734499548\n",
      "[Loss]: 0.01000405259685645\n",
      "[Loss]: 0.009993600753793488\n",
      "[Loss]: 0.009987151880904722\n",
      "[Loss]: 0.009981135466415313\n",
      "[Loss]: 0.009971977212921703\n",
      "[Loss]: 0.009956743853348337\n",
      "[Loss]: 0.009932705875202149\n",
      "[Loss]: 0.009896887317735923\n",
      "[Loss]: 0.009847071109073145\n",
      "[Loss]: 0.009783750328452393\n",
      "[Loss]: 0.009710773161672084\n",
      "[Loss]: 0.009634999367240623\n",
      "[Loss]: 0.009564735510062984\n",
      "[Loss]: 0.009505998823117551\n",
      "[Loss]: 0.009460674544391846\n",
      "[Loss]: 0.009427574513293126\n",
      "[Loss]: 0.009404762216362852\n",
      "[Loss]: 0.009390974861804484\n",
      "[Loss]: 0.009385281786814755\n",
      "[Loss]: 0.009384975153686078\n",
      "[Loss]: 0.009374602038901544\n",
      "[Loss]: 0.009330841652308582\n",
      "[Loss]: 0.009306220232286425\n",
      "[Loss]: 0.009287998823141252\n",
      "[Loss]: 0.009263541587970412\n",
      "[Loss]: 0.009232964945092115\n",
      "[Loss]: 0.009197810000476443\n",
      "[Loss]: 0.009159942486964553\n",
      "[Loss]: 0.009121347534935414\n",
      "[Loss]: 0.009083832307880903\n",
      "[Loss]: 0.009048514461645616\n",
      "[Loss]: 0.009015095855354469\n"
     ]
    }
   ],
   "source": [
    "lr = 1e-2\n",
    "for e in range(100):\n",
    "    # compute loss\n",
    "    loss = 0\n",
    "    xs, ps, hs = {}, {}, {}\n",
    "    h = np.zeros((1, hidden_size))\n",
    "    hs[-1] = h\n",
    "    for t in range(len(inp)):\n",
    "        idx = inp[t]\n",
    "        x = np.zeros((1, vocab_size))\n",
    "        x[:, idx] = 1\n",
    "        probs, h = rnn(x, h)\n",
    "        xs[t] = x\n",
    "        ps[t] = probs # save probs (we'll use this in backprop)\n",
    "        hs[t] = h\n",
    "\n",
    "        # cross entropy\n",
    "        pred = probs[0, target[t]]\n",
    "        loss += -np.log(pred)\n",
    "\n",
    "    # backprop, calculate gradients\n",
    "    dL_dWxh = np.zeros_like(Wxh)\n",
    "    dL_dWhh = np.zeros_like(Whh)\n",
    "    dL_dbh = np.zeros_like(bh)\n",
    "    dL_Why = np.zeros_like(Why)\n",
    "    dL_dby = np.zeros_like(by)\n",
    "    dF_dh = np.zeros((1, hidden_size))\n",
    "\n",
    "    for t in reversed(range(len(inp))):\n",
    "        dL_dz2 = np.copy(ps[t])\n",
    "        target_idx = target[t]\n",
    "        dL_dz2[:, target_idx] -= 1\n",
    "\n",
    "        # print(dL_dz2.shape)\n",
    "\n",
    "        a = hs[t] * dL_dz2.T\n",
    "        # print(a.shape)\n",
    "\n",
    "        # 2nd layer\n",
    "        dL_Why += hs[t] * dL_dz2.T\n",
    "        dL_dby += dL_dz2\n",
    "\n",
    "\n",
    "        # 1st layer\n",
    "        dh_dz1 = 1 - hs[t] ** 2\n",
    "        dL_dh = dF_dh + (dL_dz2 @ Why) \n",
    "\n",
    "        # print((xs[t] * dh_dz1.T * dL_dh.T).shape)\n",
    "\n",
    "        dL_dWxh += xs[t] * dh_dz1.T * dL_dh.T\n",
    "        dL_dWhh +=  hs[t - 1] * dh_dz1.T * dL_dh.T\n",
    "        dL_dbh += dh_dz1 * dL_dh\n",
    "\n",
    "        # raise RuntimeError\n",
    "\n",
    "        # dF_dh = dL_dh * (dh_dz1 @ Whh)\n",
    "        dF_dh = dL_dh @ (dh_dz1 * Whh)\n",
    "\n",
    "    # clip gradients\n",
    "    for gradient in [dL_dWxh, dL_dWhh, dL_Why, dL_dbh, dL_dby]:\n",
    "        np.clip(gradient, -1, 1, out=gradient)\n",
    "        # np.clip(gradient, -5, 5, out=gradient)\n",
    "\n",
    "    # gradient descent\n",
    "    for weights, gradient in zip([Wxh, Whh, Why, bh, by], [dL_dWxh, dL_dWhh, dL_Why, dL_dbh, dL_dby]):\n",
    "        weights -= lr * gradient\n",
    "\n",
    "    # break\n",
    "    \n",
    "    print(f\"[Loss]: {loss}\")"
   ]
  },
  {
   "cell_type": "code",
   "execution_count": 14,
   "metadata": {},
   "outputs": [
    {
     "data": {
      "text/plain": [
       "'ello world'"
      ]
     },
     "execution_count": 14,
     "metadata": {},
     "output_type": "execute_result"
    }
   ],
   "source": [
    "sample(\"h\", 10)"
   ]
  },
  {
   "cell_type": "code",
   "execution_count": null,
   "metadata": {},
   "outputs": [],
   "source": []
  }
 ],
 "metadata": {
  "kernelspec": {
   "display_name": "core-JXcGQI7U-py3.10",
   "language": "python",
   "name": "python3"
  },
  "language_info": {
   "codemirror_mode": {
    "name": "ipython",
    "version": 3
   },
   "file_extension": ".py",
   "mimetype": "text/x-python",
   "name": "python",
   "nbconvert_exporter": "python",
   "pygments_lexer": "ipython3",
   "version": "3.10.13"
  }
 },
 "nbformat": 4,
 "nbformat_minor": 2
}
