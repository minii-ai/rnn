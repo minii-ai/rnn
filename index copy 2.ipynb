{
 "cells": [
  {
   "cell_type": "code",
   "execution_count": 1,
   "metadata": {},
   "outputs": [],
   "source": [
    "import numpy as np"
   ]
  },
  {
   "cell_type": "code",
   "execution_count": 2,
   "metadata": {},
   "outputs": [],
   "source": [
    "np.random.seed(0)"
   ]
  },
  {
   "cell_type": "code",
   "execution_count": 3,
   "metadata": {},
   "outputs": [
    {
     "data": {
      "text/plain": [
       "51"
      ]
     },
     "execution_count": 3,
     "metadata": {},
     "output_type": "execute_result"
    }
   ],
   "source": [
    "# data = \"hello world\"\n",
    "data = open(\"./data/howtogetrich.txt\", \"r\").read()[:1000]\n",
    "chars = list(set(data))\n",
    "vocab_size = len(chars)\n",
    "\n",
    "char_to_ix = {char: i for i, char in enumerate(chars)}\n",
    "ix_to_char = {i: char for i, char in enumerate(chars)}\n",
    "\n",
    "vocab_size"
   ]
  },
  {
   "cell_type": "code",
   "execution_count": 4,
   "metadata": {},
   "outputs": [],
   "source": [
    "# RNN configs\n",
    "embedding_size = vocab_size\n",
    "hidden_size = 64\n",
    "output_size = vocab_size"
   ]
  },
  {
   "cell_type": "code",
   "execution_count": 5,
   "metadata": {},
   "outputs": [],
   "source": [
    "# Matrices\n",
    "Wxh = np.random.randn(hidden_size, embedding_size) * 0.01\n",
    "Whh = np.random.randn(hidden_size, hidden_size) * 0.01\n",
    "bh = np.random.randn(1, hidden_size) * 0.01\n",
    "\n",
    "Why = np.random.randn(output_size, hidden_size)\n",
    "by = np.random.randn(1, output_size)"
   ]
  },
  {
   "cell_type": "code",
   "execution_count": 6,
   "metadata": {},
   "outputs": [],
   "source": [
    "def softmax(z):\n",
    "    e_z = np.exp(z)\n",
    "    return e_z / e_z.sum(axis=1)\n",
    "\n",
    "def rnn(x_t, h_prev):\n",
    "    assert x_t.shape == (1, embedding_size)\n",
    "    assert h_prev.shape == (1, hidden_size)\n",
    "\n",
    "    h_next = np.tanh(x_t @ Wxh.T + h_prev @ Whh.T + bh)\n",
    "    probs = softmax(h_next @ Why.T + by)\n",
    "    \n",
    "    return probs, h_next\n",
    "\n",
    "def sample(char, n):\n",
    "    # sample rnn n times starting with the first char\n",
    "    x = np.zeros((1, vocab_size))\n",
    "    idx = char_to_ix[char]\n",
    "    x[:, idx] = 1 # one hot encoding\n",
    "    h =  np.zeros((1, hidden_size)) # hidden state\n",
    "    idxes = []\n",
    "    \n",
    "    for i in range(n):\n",
    "        probs, h = rnn(x, h) # xt, hprev -> rnn -> probs, hnext\n",
    "        idx = np.random.choice(vocab_size, p=probs.ravel()) # .ravel returns a 1d array\n",
    "        \n",
    "        x = np.zeros((1, vocab_size))\n",
    "        x[:, idx] = 1\n",
    "        idxes.append(idx)\n",
    "\n",
    "    chars = \"\".join([ix_to_char[i] for i in idxes])\n",
    "    return chars"
   ]
  },
  {
   "cell_type": "code",
   "execution_count": 7,
   "metadata": {},
   "outputs": [],
   "source": [
    "inputs = [char_to_ix[c] for c in data]"
   ]
  },
  {
   "cell_type": "code",
   "execution_count": 11,
   "metadata": {},
   "outputs": [],
   "source": [
    "def lossFun(inputs, targets, hprev):\n",
    "    \"\"\"\n",
    "    inputs,targets are both list of integers.\n",
    "    hprev is Hx1 array of initial hidden state\n",
    "    returns the loss, gradients on model parameters, and last hidden state\n",
    "    \"\"\"\n",
    "    xs, hs, ys, ps = {}, {}, {}, {}\n",
    "    hs[-1] = np.copy(hprev)\n",
    "    loss = 0\n",
    "    # forward pass\n",
    "    for t in range(len(inputs)):\n",
    "        xs[t] = np.zeros((1, vocab_size))  # encode in 1-of-k representation\n",
    "        xs[t][0, inputs[t]] = 1\n",
    "        hs[t] = np.tanh(\n",
    "            np.dot(xs[t], Wxh.T) + np.dot(hs[t - 1], Whh.T) + bh\n",
    "        )  # hidden state\n",
    "        ys[t] = (\n",
    "            np.dot(hs[t], Why.T) + by\n",
    "        )  # unnormalized log probabilities for next chars\n",
    "        ps[t] = np.exp(ys[t]) / np.sum(np.exp(ys[t]))  # probabilities for next chars\n",
    "        loss += -np.log(ps[t][0, targets[t]])  # softmax (cross-entropy loss)\n",
    "    # backward pass: compute gradients going backwards\n",
    "    dWxh, dWhh, dWhy = np.zeros_like(Wxh), np.zeros_like(Whh), np.zeros_like(Why)\n",
    "    dbh, dby = np.zeros_like(bh), np.zeros_like(by)\n",
    "    dhnext = np.zeros_like(hs[0])\n",
    "    for t in reversed(range(len(inputs))):\n",
    "        dy = np.copy(ps[t])\n",
    "        dy[\n",
    "            0, targets[t]\n",
    "        ] -= 1  # backprop into y. see http://cs231n.github.io/neural-networks-case-study/#grad if confused here\n",
    "        dWhy += np.dot(dy.T, hs[t])\n",
    "        dby += dy\n",
    "\n",
    "        dh = np.dot(dy, Why) + dhnext  # backprop into h\n",
    "        dhraw = (1 - hs[t] * hs[t]) * dh  # backprop through tanh nonlinearity\n",
    "\n",
    "        dbh += dhraw\n",
    "        dWxh += np.dot(dhraw.T, xs[t])\n",
    "        dWhh += np.dot(dhraw.T, hs[t - 1])\n",
    "\n",
    "\n",
    "        dhnext = np.dot(dhraw, Whh)\n",
    "    for dparam in [dWxh, dWhh, dWhy, dbh, dby]:\n",
    "        np.clip(dparam, -5, 5, out=dparam)  # clip to mitigate exploding gradients\n",
    "    return loss, dWxh, dWhh, dWhy, dbh, dby, hs[len(inputs) - 1]"
   ]
  },
  {
   "cell_type": "code",
   "execution_count": 12,
   "metadata": {},
   "outputs": [
    {
     "name": "stdout",
     "output_type": "stream",
     "text": [
      "iter 0, loss: 98.197775\n",
      "iter 100, loss: 99.640193\n",
      "iter 200, loss: 96.690042\n",
      "iter 300, loss: 93.293468\n",
      "iter 400, loss: 89.683637\n",
      "iter 500, loss: 86.037154\n",
      "iter 600, loss: 82.389573\n",
      "iter 700, loss: 78.699222\n",
      "iter 800, loss: 75.065776\n",
      "iter 900, loss: 71.609614\n",
      "iter 1000, loss: 68.104286\n",
      "iter 1100, loss: 64.818270\n",
      "iter 1200, loss: 61.567906\n",
      "iter 1300, loss: 58.500815\n",
      "iter 1400, loss: 55.599214\n",
      "iter 1500, loss: 52.773560\n",
      "iter 1600, loss: 50.126014\n",
      "iter 1700, loss: 47.531117\n",
      "iter 1800, loss: 45.055649\n",
      "iter 1900, loss: 42.680517\n",
      "iter 2000, loss: 40.464256\n",
      "iter 2100, loss: 38.364957\n",
      "iter 2200, loss: 36.392113\n",
      "iter 2300, loss: 34.515801\n",
      "iter 2400, loss: 32.704976\n",
      "iter 2500, loss: 30.976247\n",
      "iter 2600, loss: 29.331113\n",
      "iter 2700, loss: 27.801525\n",
      "iter 2800, loss: 26.335281\n",
      "iter 2900, loss: 24.972826\n",
      "iter 3000, loss: 23.703123\n",
      "iter 3100, loss: 22.509711\n",
      "iter 3200, loss: 21.455430\n",
      "iter 3300, loss: 20.409453\n",
      "iter 3400, loss: 19.399847\n",
      "iter 3500, loss: 18.421561\n",
      "iter 3600, loss: 17.593056\n",
      "iter 3700, loss: 16.725639\n",
      "iter 3800, loss: 15.926622\n",
      "iter 3900, loss: 15.168304\n",
      "iter 4000, loss: 14.477256\n",
      "iter 4100, loss: 13.789908\n",
      "iter 4200, loss: 13.101058\n",
      "iter 4300, loss: 12.445477\n",
      "iter 4400, loss: 11.827831\n",
      "iter 4500, loss: 11.379004\n",
      "iter 4600, loss: 10.938033\n"
     ]
    },
    {
     "ename": "KeyboardInterrupt",
     "evalue": "",
     "output_type": "error",
     "traceback": [
      "\u001b[0;31m---------------------------------------------------------------------------\u001b[0m",
      "\u001b[0;31mKeyboardInterrupt\u001b[0m                         Traceback (most recent call last)",
      "Cell \u001b[0;32mIn[12], line 23\u001b[0m\n\u001b[1;32m     14\u001b[0m targets \u001b[38;5;241m=\u001b[39m [char_to_ix[ch] \u001b[38;5;28;01mfor\u001b[39;00m ch \u001b[38;5;129;01min\u001b[39;00m data[p \u001b[38;5;241m+\u001b[39m \u001b[38;5;241m1\u001b[39m : p \u001b[38;5;241m+\u001b[39m seq_length \u001b[38;5;241m+\u001b[39m \u001b[38;5;241m1\u001b[39m]]\n\u001b[1;32m     16\u001b[0m \u001b[38;5;66;03m# sample from the model now and then\u001b[39;00m\n\u001b[1;32m     17\u001b[0m \u001b[38;5;66;03m# if n % 100 == 0:\u001b[39;00m\n\u001b[1;32m     18\u001b[0m     \u001b[38;5;66;03m# sample_ix = sample(hprev, inputs[0], 200)\u001b[39;00m\n\u001b[0;32m   (...)\u001b[0m\n\u001b[1;32m     21\u001b[0m \n\u001b[1;32m     22\u001b[0m \u001b[38;5;66;03m# forward seq_length characters through the net and fetch gradient\u001b[39;00m\n\u001b[0;32m---> 23\u001b[0m loss, dWxh, dWhh, dWhy, dbh, dby, hprev \u001b[38;5;241m=\u001b[39m \u001b[43mlossFun\u001b[49m\u001b[43m(\u001b[49m\u001b[43minputs\u001b[49m\u001b[43m,\u001b[49m\u001b[43m \u001b[49m\u001b[43mtargets\u001b[49m\u001b[43m,\u001b[49m\u001b[43m \u001b[49m\u001b[43mhprev\u001b[49m\u001b[43m)\u001b[49m\n\u001b[1;32m     24\u001b[0m smooth_loss \u001b[38;5;241m=\u001b[39m smooth_loss \u001b[38;5;241m*\u001b[39m \u001b[38;5;241m0.999\u001b[39m \u001b[38;5;241m+\u001b[39m loss \u001b[38;5;241m*\u001b[39m \u001b[38;5;241m0.001\u001b[39m\n\u001b[1;32m     25\u001b[0m \u001b[38;5;28;01mif\u001b[39;00m n \u001b[38;5;241m%\u001b[39m \u001b[38;5;241m100\u001b[39m \u001b[38;5;241m==\u001b[39m \u001b[38;5;241m0\u001b[39m:\n\u001b[1;32m     26\u001b[0m     \u001b[38;5;66;03m# print(\"iter %d, loss: %f\" % (n, smooth_loss))  # print progress\u001b[39;00m\n",
      "Cell \u001b[0;32mIn[11], line 38\u001b[0m, in \u001b[0;36mlossFun\u001b[0;34m(inputs, targets, hprev)\u001b[0m\n\u001b[1;32m     35\u001b[0m dhraw \u001b[38;5;241m=\u001b[39m (\u001b[38;5;241m1\u001b[39m \u001b[38;5;241m-\u001b[39m hs[t] \u001b[38;5;241m*\u001b[39m hs[t]) \u001b[38;5;241m*\u001b[39m dh  \u001b[38;5;66;03m# backprop through tanh nonlinearity\u001b[39;00m\n\u001b[1;32m     37\u001b[0m dbh \u001b[38;5;241m+\u001b[39m\u001b[38;5;241m=\u001b[39m dhraw\n\u001b[0;32m---> 38\u001b[0m dWxh \u001b[38;5;241m+\u001b[39m\u001b[38;5;241m=\u001b[39m \u001b[43mnp\u001b[49m\u001b[38;5;241;43m.\u001b[39;49m\u001b[43mdot\u001b[49m\u001b[43m(\u001b[49m\u001b[43mdhraw\u001b[49m\u001b[38;5;241;43m.\u001b[39;49m\u001b[43mT\u001b[49m\u001b[43m,\u001b[49m\u001b[43m \u001b[49m\u001b[43mxs\u001b[49m\u001b[43m[\u001b[49m\u001b[43mt\u001b[49m\u001b[43m]\u001b[49m\u001b[43m)\u001b[49m\n\u001b[1;32m     39\u001b[0m dWhh \u001b[38;5;241m+\u001b[39m\u001b[38;5;241m=\u001b[39m np\u001b[38;5;241m.\u001b[39mdot(dhraw\u001b[38;5;241m.\u001b[39mT, hs[t \u001b[38;5;241m-\u001b[39m \u001b[38;5;241m1\u001b[39m])\n\u001b[1;32m     42\u001b[0m dhnext \u001b[38;5;241m=\u001b[39m np\u001b[38;5;241m.\u001b[39mdot(dhraw, Whh)\n",
      "\u001b[0;31mKeyboardInterrupt\u001b[0m: "
     ]
    }
   ],
   "source": [
    "seq_length = 25\n",
    "learning_rate = 1e-1\n",
    "\n",
    "n, p = 0, 0\n",
    "mWxh, mWhh, mWhy = np.zeros_like(Wxh), np.zeros_like(Whh), np.zeros_like(Why)\n",
    "mbh, mby = np.zeros_like(bh), np.zeros_like(by)  # memory variables for Adagrad\n",
    "smooth_loss = -np.log(1.0 / vocab_size) * seq_length  # loss at iteration 0\n",
    "while True:\n",
    "    # prepare inputs (we're sweeping from left to right in steps seq_length long)\n",
    "    if p + seq_length + 1 >= len(data) or n == 0:\n",
    "        hprev = np.zeros((1, hidden_size))  # reset RNN memory\n",
    "        p = 0  # go from start of data\n",
    "    inputs = [char_to_ix[ch] for ch in data[p : p + seq_length]]\n",
    "    targets = [char_to_ix[ch] for ch in data[p + 1 : p + seq_length + 1]]\n",
    "\n",
    "    # sample from the model now and then\n",
    "    # if n % 100 == 0:\n",
    "        # sample_ix = sample(hprev, inputs[0], 200)\n",
    "        # txt = \"\".join(ix_to_char[ix] for ix in sample_ix)\n",
    "        # print(\"----\\n %s \\n----\" % (txt,))\n",
    "\n",
    "    # forward seq_length characters through the net and fetch gradient\n",
    "    loss, dWxh, dWhh, dWhy, dbh, dby, hprev = lossFun(inputs, targets, hprev)\n",
    "    smooth_loss = smooth_loss * 0.999 + loss * 0.001\n",
    "    if n % 100 == 0:\n",
    "        # print(\"iter %d, loss: %f\" % (n, smooth_loss))  # print progress\n",
    "        print(\"iter %d, loss: %f\" % (n, smooth_loss))  # print progress\n",
    "\n",
    "    # perform parameter update with Adagrad\n",
    "    for param, dparam, mem in zip(\n",
    "        [Wxh, Whh, Why, bh, by],\n",
    "        [dWxh, dWhh, dWhy, dbh, dby],\n",
    "        [mWxh, mWhh, mWhy, mbh, mby],\n",
    "    ):\n",
    "        mem += dparam * dparam\n",
    "        param += -learning_rate * dparam / np.sqrt(mem + 1e-8)  # adagrad update\n",
    "\n",
    "    p += seq_length  # move data pointer\n",
    "    n += 1  # iteration counter"
   ]
  },
  {
   "cell_type": "code",
   "execution_count": 9,
   "metadata": {},
   "outputs": [
    {
     "name": "stdout",
     "output_type": "stream",
     "text": [
      "twererorobeccoutwingeepl at hecckerytuntiterowitt aly ava an gere topriknderitwavan avanst. abaval a\n"
     ]
    }
   ],
   "source": [
    "print(sample(\"S\", 100))"
   ]
  },
  {
   "cell_type": "code",
   "execution_count": null,
   "metadata": {},
   "outputs": [],
   "source": []
  }
 ],
 "metadata": {
  "kernelspec": {
   "display_name": "core-JXcGQI7U-py3.10",
   "language": "python",
   "name": "python3"
  },
  "language_info": {
   "codemirror_mode": {
    "name": "ipython",
    "version": 3
   },
   "file_extension": ".py",
   "mimetype": "text/x-python",
   "name": "python",
   "nbconvert_exporter": "python",
   "pygments_lexer": "ipython3",
   "version": "3.10.13"
  }
 },
 "nbformat": 4,
 "nbformat_minor": 2
}
